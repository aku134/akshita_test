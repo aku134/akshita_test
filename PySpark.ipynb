{
 "cells": [
  {
   "cell_type": "code",
   "execution_count": 1,
   "id": "9c4a5937",
   "metadata": {
    "scrolled": true
   },
   "outputs": [
    {
     "name": "stdout",
     "output_type": "stream",
     "text": [
      "Requirement already satisfied: findspark in /opt/anaconda3/lib/python3.11/site-packages (2.0.1)\n",
      "Note: you may need to restart the kernel to use updated packages.\n"
     ]
    }
   ],
   "source": [
    "pip install findspark"
   ]
  },
  {
   "cell_type": "code",
   "execution_count": 1,
   "id": "f4b3e291",
   "metadata": {},
   "outputs": [
    {
     "name": "stderr",
     "output_type": "stream",
     "text": [
      "Setting default log level to \"WARN\".\n",
      "To adjust logging level use sc.setLogLevel(newLevel). For SparkR, use setLogLevel(newLevel).\n",
      "23/09/25 04:14:28 WARN NativeCodeLoader: Unable to load native-hadoop library for your platform... using builtin-java classes where applicable\n"
     ]
    }
   ],
   "source": [
    "import findspark\n",
    "findspark.init()\n",
    "findspark.find()\n",
    "\n",
    "from pyspark.sql import SparkSession\n",
    "\n",
    "spark = SparkSession \\\n",
    "    .builder \\\n",
    "    .appName(\"Python Spark SQL basic example\") \\\n",
    "    .config(\"spark.some.config.option\", \"some-value\") \\\n",
    "    .getOrCreate()"
   ]
  },
  {
   "cell_type": "code",
   "execution_count": 2,
   "id": "85bda9e4",
   "metadata": {},
   "outputs": [
    {
     "name": "stderr",
     "output_type": "stream",
     "text": [
      "                                                                                \r"
     ]
    },
    {
     "name": "stdout",
     "output_type": "stream",
     "text": [
      "+---+---+----+\n",
      "|_c0|_c1| _c2|\n",
      "+---+---+----+\n",
      "|111|zzz|8000|\n",
      "|111|aaa|8888|\n",
      "|121|bbb|8000|\n",
      "+---+---+----+\n",
      "\n"
     ]
    }
   ],
   "source": [
    "empdf=spark.read.csv(\"file:///home/labuser/datasets/emp.csv\")\n",
    "\n",
    "empdf.show()"
   ]
  },
  {
   "cell_type": "code",
   "execution_count": 3,
   "id": "b96bb10c",
   "metadata": {},
   "outputs": [],
   "source": [
    "from pyspark.sql import SparkSession\n",
    "\n",
    "spark = SparkSession \\\n",
    "    .builder \\\n",
    "    .appName(\"Python Spark SQL basic example\") \\\n",
    "    .config(\"spark.some.config.option\", \"some-value\") \\\n",
    "    .getOrCreate()"
   ]
  },
  {
   "cell_type": "code",
   "execution_count": 4,
   "id": "98db3bd2",
   "metadata": {
    "scrolled": true
   },
   "outputs": [
    {
     "data": {
      "text/html": [
       "\n",
       "            <div>\n",
       "                <p><b>SparkSession - in-memory</b></p>\n",
       "                \n",
       "        <div>\n",
       "            <p><b>SparkContext</b></p>\n",
       "\n",
       "            <p><a href=\"http://ip-172-31-11-196.ap-south-1.compute.internal:4040\">Spark UI</a></p>\n",
       "\n",
       "            <dl>\n",
       "              <dt>Version</dt>\n",
       "                <dd><code>v3.4.1</code></dd>\n",
       "              <dt>Master</dt>\n",
       "                <dd><code>local[*]</code></dd>\n",
       "              <dt>AppName</dt>\n",
       "                <dd><code>Python Spark SQL basic example</code></dd>\n",
       "            </dl>\n",
       "        </div>\n",
       "        \n",
       "            </div>\n",
       "        "
      ],
      "text/plain": [
       "<pyspark.sql.session.SparkSession at 0x7f6e803de490>"
      ]
     },
     "execution_count": 4,
     "metadata": {},
     "output_type": "execute_result"
    }
   ],
   "source": [
    "spark"
   ]
  },
  {
   "cell_type": "code",
   "execution_count": 5,
   "id": "2b5b7f82",
   "metadata": {},
   "outputs": [
    {
     "name": "stderr",
     "output_type": "stream",
     "text": [
      "                                                                                \r"
     ]
    }
   ],
   "source": [
    "salesdf=spark.read.csv(\"/home/labuser/datasets/superstore.csv\")\n",
    "\n",
    "salesdf=spark.read.option(\"header\",\"true\").option(\"inferSchema\",\"true\").csv(\"/home/labuser/datasets/superstore.csv\")"
   ]
  },
  {
   "cell_type": "code",
   "execution_count": 6,
   "id": "ef37ac21",
   "metadata": {},
   "outputs": [
    {
     "name": "stdout",
     "output_type": "stream",
     "text": [
      "+-----+---------------+----------+----------+--------------+----------+----------------+-----------+-------------+---------------+-------------+----------+------+------------+----------------+---------------+------------+--------------------+----------------+--------+--------+----------+------------+-------------+\n",
      "|   ID|        OrderID| OrderDate|  ShipDate|      ShipMode|CustomerID|    CustomerName|    Segment|         City|          State|      Country|PostalCode|Market|      Region|       ProductID|       Category|Sub-Category|         ProductName|           Sales|Quantity|Discount|    Profit|ShippingCost|OrderPriority|\n",
      "+-----+---------------+----------+----------+--------------+----------+----------------+-----------+-------------+---------------+-------------+----------+------+------------+----------------+---------------+------------+--------------------+----------------+--------+--------+----------+------------+-------------+\n",
      "|32298| CA-2012-124891|31/07/2012|31/07/2012|      Same Day|  RH-19495|     Rick Hansen|   Consumer|New York City|       New York|United States|     10024|    US|        East| TEC-AC-10003033|     Technology| Accessories|Plantronics CS510...|         2309.65|       7|       0|  762.1845|     933.57 |     Critical|\n",
      "|26341|  IN-2013-77878|05/02/2013|07/02/2013|  Second Class|  JR-16210|   Justin Ritter|  Corporate|   Wollongong|New South Wales|    Australia|      null|  APAC|     Oceania| FUR-CH-10003950|      Furniture|      Chairs|Novimex Executive...|           Black|3709.395|       9|       0.1|    -288.765|      923.63 |\n",
      "|25330|  IN-2013-71249|17/10/2013|18/10/2013|   First Class|  CR-12730|    Craig Reiter|   Consumer|     Brisbane|     Queensland|    Australia|      null|  APAC|     Oceania| TEC-PH-10004664|     Technology|      Phones|   Nokia Smart Phone|  with Caller ID|5175.171|       9|       0.1|     919.971|      915.49 |\n",
      "|13524|ES-2013-1579342|28/01/2013|30/01/2013|   First Class|  KM-16375|Katherine Murray|Home Office|       Berlin|         Berlin|      Germany|      null|    EU|     Central| TEC-PH-10004583|     Technology|      Phones|Motorola Smart Phone|        Cordless| 2892.51|       5|       0.1|      -96.54|      910.16 |\n",
      "|47221|   SG-2013-4320|05/11/2013|06/11/2013|      Same Day|   RH-9495|     Rick Hansen|   Consumer|        Dakar|          Dakar|      Senegal|      null|Africa|      Africa|TEC-SHA-10000501|     Technology|     Copiers|  Sharp Wireless Fax|      High-Speed| 2832.96|       8|         0|      311.52|      903.04 |\n",
      "|22732|  IN-2013-42360|28/06/2013|01/07/2013|  Second Class|  JM-15655|     Jim Mitchum|  Corporate|       Sydney|New South Wales|    Australia|      null|  APAC|     Oceania| TEC-PH-10000030|     Technology|      Phones| Samsung Smart Phone|  with Caller ID|2862.675|       5|       0.1|     763.275|      897.35 |\n",
      "|30570|  IN-2011-81826|07/11/2011|09/11/2011|   First Class|  TS-21340|   Toby Swindell|   Consumer|      Porirua|     Wellington|  New Zealand|      null|  APAC|     Oceania| FUR-CH-10004050|      Furniture|      Chairs|Novimex Executive...|      Adjustable| 1822.08|       4|         0|      564.84|       894.77|\n",
      "|31192|  IN-2012-86369|14/04/2012|18/04/2012|Standard Class|  MB-18085|      Mick Brown|   Consumer|     Hamilton|        Waikato|  New Zealand|      null|  APAC|     Oceania| FUR-TA-10002958|      Furniture|      Tables|Chromcraft Confer...| Fully Assembled| 5244.84|       6|         0|      996.48|       878.38|\n",
      "|40155| CA-2014-135909|14/10/2014|21/10/2014|Standard Class|  JW-15220|       Jane Waco|  Corporate|   Sacramento|     California|United States|     95823|    US|        West| OFF-BI-10003527|Office Supplies|     Binders|Fellowes PB500 El...|         5083.96|       5|     0.2|  1906.485|     867.69 |          Low|\n",
      "|40936| CA-2012-116638|28/01/2012|31/01/2012|  Second Class|  JH-15985|     Joseph Holt|   Consumer|      Concord| North Carolina|United States|     28027|    US|       South| FUR-TA-10000198|      Furniture|      Tables|Chromcraft Bull-N...|        4297.644|      13|     0.4|-1862.3124|     865.74 |     Critical|\n",
      "|34577| CA-2011-102988|05/04/2011|09/04/2011|  Second Class|  GM-14695|    Greg Maxwell|  Corporate|   Alexandria|       Virginia|United States|     22304|    US|       South| OFF-SU-10002881|Office Supplies|    Supplies|Martin Yale Chadl...|         4164.05|       5|       0|    83.281|     846.54 |         High|\n",
      "|28879|  ID-2012-28402|19/04/2012|22/04/2012|   First Class|  AJ-10780|  Anthony Jacobs|  Corporate|        Kabul|          Kabul|  Afghanistan|      null|  APAC|Central Asia| FUR-TA-10001889|      Furniture|      Tables|Bevis Conference ...| Fully Assembled| 4626.15|       5|         0|      647.55|      835.57 |\n",
      "|45794|   SA-2011-1830|27/12/2011|29/12/2011|  Second Class|   MM-7260| Magdelene Morse|   Consumer|        Jizan|          Jizan| Saudi Arabia|      null|  EMEA|        EMEA|TEC-CIS-10001717|     Technology|      Phones|   Cisco Smart Phone|  with Caller ID| 2616.96|       4|         0|      1151.4|      832.41 |\n",
      "| 4132| MX-2012-130015|13/11/2012|13/11/2012|      Same Day|  VF-21715|  Vicky Freymann|Home Office|       Toledo|         Parana|       Brazil|      null| LATAM|       South| FUR-CH-10002033|      Furniture|      Chairs|Harbour Creations...|      Adjustable|  2221.8|       7|         0|      622.02|      810.25 |\n",
      "|27704|  IN-2013-73951|06/06/2013|08/06/2013|  Second Class|  PF-19120|    Peter Fuller|   Consumer|   Mudanjiang|   Heilongjiang|        China|      null|  APAC|  North Asia| OFF-AP-10003500|Office Supplies|  Appliances|KitchenAid Microwave|           White| 3701.52|      12|         0|     1036.08|      804.54 |\n",
      "|13779|ES-2014-5099955|31/07/2014|03/08/2014|  Second Class|  BP-11185|    Ben Peterman|  Corporate|        Paris|  Ile-de-France|       France|      null|    EU|     Central| OFF-AP-10000423|Office Supplies|  Appliances|Breville Refriger...|             Red|1869.588|       4|       0.1|     186.948|      801.66 |\n",
      "|36178| CA-2014-143567|03/11/2014|06/11/2014|  Second Class|  TB-21175|   Thomas Boland|  Corporate|    Henderson|       Kentucky|United States|     42420|    US|       South| TEC-AC-10004145|     Technology| Accessories|Logitech diNovo E...|         2249.91|       9|       0|  517.4793|     780.70 |     Critical|\n",
      "|12069|ES-2014-1651774|08/09/2014|14/09/2014|Standard Class|  PJ-18835|   Patrick Jones|  Corporate|        Prato|        Tuscany|        Italy|      null|    EU|       South| OFF-AP-10004512|Office Supplies|  Appliances|        Hoover Stove|             Red| 7958.58|      14|         0|     3979.08|      778.32 |\n",
      "|22096|  IN-2014-11763|31/01/2014|01/02/2014|   First Class|  JS-15685|        Jim Sink|  Corporate|   Townsville|     Queensland|    Australia|      null|  APAC|     Oceania| TEC-CO-10000865|     Technology|     Copiers| Brother Fax Machine|      High-Speed|2565.594|       9|       0.1|      28.404|      766.93 |\n",
      "|49463|   TZ-2014-8190|05/12/2014|07/12/2014|  Second Class|   RH-9555| Ritsa Hightower|   Consumer|       Uvinza|         Kigoma|     Tanzania|      null|Africa|      Africa|OFF-KIT-10004058|Office Supplies|  Appliances|    KitchenAid Stove|           White| 3409.74|       6|         0|      818.28|      763.38 |\n",
      "+-----+---------------+----------+----------+--------------+----------+----------------+-----------+-------------+---------------+-------------+----------+------+------------+----------------+---------------+------------+--------------------+----------------+--------+--------+----------+------------+-------------+\n",
      "only showing top 20 rows\n",
      "\n"
     ]
    }
   ],
   "source": [
    "salesdf.show()"
   ]
  },
  {
   "cell_type": "code",
   "execution_count": 7,
   "id": "9a8277a8",
   "metadata": {},
   "outputs": [],
   "source": [
    "\n",
    "empdf=spark.read.option(\"header\",\"true\").option(\"inferSchema\",\"true\").csv(\"/home/labuser/datasets/employee.csv\")"
   ]
  },
  {
   "cell_type": "code",
   "execution_count": 8,
   "id": "913636c2",
   "metadata": {},
   "outputs": [
    {
     "name": "stdout",
     "output_type": "stream",
     "text": [
      "+-----+-----+----+\n",
      "|empno|ename| sal|\n",
      "+-----+-----+----+\n",
      "|  111|  zzz|8000|\n",
      "|  111|  aaa|8888|\n",
      "|  121|  bbb|8000|\n",
      "| NULL|  ccc|9000|\n",
      "|false|  ddd|6000|\n",
      "|  555|  eee|7000|\n",
      "|  765| null|null|\n",
      "|  666|  fff|8890|\n",
      "|  aaa| null|null|\n",
      "| True| null|null|\n",
      "| true| null|null|\n",
      "|    a|    b|   c|\n",
      "|    x| NULL|NULL|\n",
      "| 1000| null|null|\n",
      "|  222| NULL|NULL|\n",
      "+-----+-----+----+\n",
      "\n"
     ]
    }
   ],
   "source": [
    "empdf.show()"
   ]
  },
  {
   "cell_type": "code",
   "execution_count": 9,
   "id": "911d93d2",
   "metadata": {},
   "outputs": [
    {
     "name": "stdout",
     "output_type": "stream",
     "text": [
      "root\n",
      " |-- empno: string (nullable = true)\n",
      " |-- ename: string (nullable = true)\n",
      " |-- sal: string (nullable = true)\n",
      "\n"
     ]
    }
   ],
   "source": [
    "empdf.printSchema()"
   ]
  },
  {
   "cell_type": "code",
   "execution_count": 10,
   "id": "020ce99c",
   "metadata": {},
   "outputs": [
    {
     "name": "stdout",
     "output_type": "stream",
     "text": [
      "root\n",
      " |-- ID: integer (nullable = true)\n",
      " |-- OrderID: string (nullable = true)\n",
      " |-- OrderDate: string (nullable = true)\n",
      " |-- ShipDate: string (nullable = true)\n",
      " |-- ShipMode: string (nullable = true)\n",
      " |-- CustomerID: string (nullable = true)\n",
      " |-- CustomerName: string (nullable = true)\n",
      " |-- Segment: string (nullable = true)\n",
      " |-- City: string (nullable = true)\n",
      " |-- State: string (nullable = true)\n",
      " |-- Country: string (nullable = true)\n",
      " |-- PostalCode: integer (nullable = true)\n",
      " |-- Market: string (nullable = true)\n",
      " |-- Region: string (nullable = true)\n",
      " |-- ProductID: string (nullable = true)\n",
      " |-- Category: string (nullable = true)\n",
      " |-- Sub-Category: string (nullable = true)\n",
      " |-- ProductName: string (nullable = true)\n",
      " |-- Sales: string (nullable = true)\n",
      " |-- Quantity: string (nullable = true)\n",
      " |-- Discount: string (nullable = true)\n",
      " |-- Profit: string (nullable = true)\n",
      " |-- ShippingCost: string (nullable = true)\n",
      " |-- OrderPriority: string (nullable = true)\n",
      "\n"
     ]
    }
   ],
   "source": [
    "salesdf.printSchema()"
   ]
  },
  {
   "cell_type": "code",
   "execution_count": 11,
   "id": "01677b84",
   "metadata": {},
   "outputs": [],
   "source": [
    "from pyspark.sql.types import StructType,StructField, StringType,IntegerType,DoubleType\n",
    "\n",
    "EmpSchema = StructType([  \n",
    "    StructField('Empno', IntegerType(), True), \n",
    "    StructField('Empname', StringType(), True),    \n",
    "     StructField('salary', DoubleType(), True) \n",
    "])"
   ]
  },
  {
   "cell_type": "code",
   "execution_count": 12,
   "id": "96649c6e",
   "metadata": {},
   "outputs": [],
   "source": [
    "employeedf=spark.read.option(\"header\",\"true\").schema(EmpSchema).csv(\"/home/labuser/datasets/employee.csv\")\n"
   ]
  },
  {
   "cell_type": "code",
   "execution_count": 13,
   "id": "c6110c55",
   "metadata": {},
   "outputs": [
    {
     "name": "stdout",
     "output_type": "stream",
     "text": [
      "root\n",
      " |-- Empno: integer (nullable = true)\n",
      " |-- Empname: string (nullable = true)\n",
      " |-- salary: double (nullable = true)\n",
      "\n"
     ]
    }
   ],
   "source": [
    "employeedf.printSchema()"
   ]
  },
  {
   "cell_type": "code",
   "execution_count": 14,
   "id": "ad6b8656",
   "metadata": {},
   "outputs": [
    {
     "name": "stdout",
     "output_type": "stream",
     "text": [
      "+-----+-------+------+\n",
      "|Empno|Empname|salary|\n",
      "+-----+-------+------+\n",
      "|  111|    zzz|8000.0|\n",
      "|  111|    aaa|8888.0|\n",
      "|  121|    bbb|8000.0|\n",
      "| null|    ccc|9000.0|\n",
      "| null|    ddd|6000.0|\n",
      "|  555|    eee|7000.0|\n",
      "|  765|   null|  null|\n",
      "|  666|    fff|8890.0|\n",
      "| null|   null|  null|\n",
      "| null|   null|  null|\n",
      "| null|   null|  null|\n",
      "| null|      b|  null|\n",
      "| null|   NULL|  null|\n",
      "| 1000|   null|  null|\n",
      "|  222|   NULL|  null|\n",
      "+-----+-------+------+\n",
      "\n"
     ]
    },
    {
     "name": "stderr",
     "output_type": "stream",
     "text": [
      "23/09/25 04:14:58 WARN CSVHeaderChecker: CSV header does not conform to the schema.\n",
      " Header: empno, ename, sal\n",
      " Schema: Empno, Empname, salary\n",
      "Expected: Empname but found: ename\n",
      "CSV file: file:///home/labuser/datasets/employee.csv\n"
     ]
    }
   ],
   "source": [
    "employeedf.show()"
   ]
  },
  {
   "cell_type": "code",
   "execution_count": 15,
   "id": "ef8883fa",
   "metadata": {},
   "outputs": [],
   "source": [
    "#handing bad recods\n",
    "#Modes\n",
    "# 1.Permissive : replace mismatched data with nulls\n",
    "# 2.Dropmalformed : filter out only good records in the dataset\n",
    "# 3.FailFast : used for sensitive data "
   ]
  },
  {
   "cell_type": "markdown",
   "id": "4a9ccded",
   "metadata": {},
   "source": []
  },
  {
   "cell_type": "code",
   "execution_count": 16,
   "id": "dedda5c2",
   "metadata": {},
   "outputs": [],
   "source": [
    "dropdf=spark.read.option(\"header\",\"true\").option(\"mode\",\"dropmalformed\").schema(EmpSchema).csv(\"/home/labuser/datasets/employee.csv\")\n"
   ]
  },
  {
   "cell_type": "code",
   "execution_count": 17,
   "id": "3c0c06bf",
   "metadata": {},
   "outputs": [
    {
     "name": "stdout",
     "output_type": "stream",
     "text": [
      "+-----+-------+------+\n",
      "|Empno|Empname|salary|\n",
      "+-----+-------+------+\n",
      "|  111|    zzz|8000.0|\n",
      "|  111|    aaa|8888.0|\n",
      "|  121|    bbb|8000.0|\n",
      "|  555|    eee|7000.0|\n",
      "|  666|    fff|8890.0|\n",
      "+-----+-------+------+\n",
      "\n"
     ]
    },
    {
     "name": "stderr",
     "output_type": "stream",
     "text": [
      "23/09/25 04:14:58 WARN CSVHeaderChecker: CSV header does not conform to the schema.\n",
      " Header: empno, ename, sal\n",
      " Schema: Empno, Empname, salary\n",
      "Expected: Empname but found: ename\n",
      "CSV file: file:///home/labuser/datasets/employee.csv\n"
     ]
    }
   ],
   "source": [
    "dropdf.show()"
   ]
  },
  {
   "cell_type": "code",
   "execution_count": 18,
   "id": "1b7926a5",
   "metadata": {},
   "outputs": [],
   "source": [
    "employeedf_failfast=spark.read.option(\"header\",\"true\").option(\"mode\",\"failfast\").schema(EmpSchema).csv(\"/home/labuser/datasets/employee.csv\")\n"
   ]
  },
  {
   "cell_type": "code",
   "execution_count": 19,
   "id": "151610b9",
   "metadata": {},
   "outputs": [
    {
     "name": "stderr",
     "output_type": "stream",
     "text": [
      "23/09/25 04:14:58 WARN CSVHeaderChecker: CSV header does not conform to the schema.\n",
      " Header: empno, ename, sal\n",
      " Schema: Empno, Empname, salary\n",
      "Expected: Empname but found: ename\n",
      "CSV file: file:///home/labuser/datasets/employee.csv\n",
      "23/09/25 04:14:58 ERROR Executor: Exception in task 0.0 in stage 11.0 (TID 12)\n",
      "org.apache.spark.SparkException: [MALFORMED_RECORD_IN_PARSING] Malformed records are detected in record parsing: [null,ccc,9000.0].\n",
      "Parse Mode: FAILFAST. To process malformed records as null result, try setting the option 'mode' as 'PERMISSIVE'.\n",
      "\tat org.apache.spark.sql.errors.QueryExecutionErrors$.malformedRecordsDetectedInRecordParsingError(QueryExecutionErrors.scala:1764)\n",
      "\tat org.apache.spark.sql.catalyst.util.FailureSafeParser.parse(FailureSafeParser.scala:69)\n",
      "\tat org.apache.spark.sql.catalyst.csv.UnivocityParser$.$anonfun$parseIterator$2(UnivocityParser.scala:456)\n",
      "\tat scala.collection.Iterator$$anon$11.nextCur(Iterator.scala:486)\n",
      "\tat scala.collection.Iterator$$anon$11.hasNext(Iterator.scala:492)\n",
      "\tat scala.collection.Iterator$$anon$10.hasNext(Iterator.scala:460)\n",
      "\tat org.apache.spark.sql.execution.datasources.FileScanRDD$$anon$1.hasNext(FileScanRDD.scala:125)\n",
      "\tat scala.collection.Iterator$$anon$10.hasNext(Iterator.scala:460)\n",
      "\tat org.apache.spark.sql.catalyst.expressions.GeneratedClass$GeneratedIteratorForCodegenStage1.processNext(Unknown Source)\n",
      "\tat org.apache.spark.sql.execution.BufferedRowIterator.hasNext(BufferedRowIterator.java:43)\n",
      "\tat org.apache.spark.sql.execution.WholeStageCodegenExec$$anon$1.hasNext(WholeStageCodegenExec.scala:760)\n",
      "\tat org.apache.spark.sql.execution.SparkPlan.$anonfun$getByteArrayRdd$1(SparkPlan.scala:388)\n",
      "\tat org.apache.spark.rdd.RDD.$anonfun$mapPartitionsInternal$2(RDD.scala:888)\n",
      "\tat org.apache.spark.rdd.RDD.$anonfun$mapPartitionsInternal$2$adapted(RDD.scala:888)\n",
      "\tat org.apache.spark.rdd.MapPartitionsRDD.compute(MapPartitionsRDD.scala:52)\n",
      "\tat org.apache.spark.rdd.RDD.computeOrReadCheckpoint(RDD.scala:364)\n",
      "\tat org.apache.spark.rdd.RDD.iterator(RDD.scala:328)\n",
      "\tat org.apache.spark.scheduler.ResultTask.runTask(ResultTask.scala:92)\n",
      "\tat org.apache.spark.TaskContext.runTaskWithListeners(TaskContext.scala:161)\n",
      "\tat org.apache.spark.scheduler.Task.run(Task.scala:139)\n",
      "\tat org.apache.spark.executor.Executor$TaskRunner.$anonfun$run$3(Executor.scala:554)\n",
      "\tat org.apache.spark.util.Utils$.tryWithSafeFinally(Utils.scala:1529)\n",
      "\tat org.apache.spark.executor.Executor$TaskRunner.run(Executor.scala:557)\n",
      "\tat java.util.concurrent.ThreadPoolExecutor.runWorker(ThreadPoolExecutor.java:1149)\n",
      "\tat java.util.concurrent.ThreadPoolExecutor$Worker.run(ThreadPoolExecutor.java:624)\n",
      "\tat java.lang.Thread.run(Thread.java:750)\n",
      "Caused by: org.apache.spark.sql.catalyst.util.BadRecordException: java.lang.NumberFormatException: For input string: \"NULL\"\n",
      "\tat org.apache.spark.sql.catalyst.csv.UnivocityParser.org$apache$spark$sql$catalyst$csv$UnivocityParser$$convert(UnivocityParser.scala:365)\n",
      "\tat org.apache.spark.sql.catalyst.csv.UnivocityParser.$anonfun$parse$2(UnivocityParser.scala:307)\n",
      "\tat org.apache.spark.sql.catalyst.csv.UnivocityParser$.$anonfun$parseIterator$1(UnivocityParser.scala:452)\n",
      "\tat org.apache.spark.sql.catalyst.util.FailureSafeParser.parse(FailureSafeParser.scala:60)\n",
      "\t... 24 more\n",
      "Caused by: java.lang.NumberFormatException: For input string: \"NULL\"\n",
      "\tat java.lang.NumberFormatException.forInputString(NumberFormatException.java:65)\n",
      "\tat java.lang.Integer.parseInt(Integer.java:580)\n",
      "\tat java.lang.Integer.parseInt(Integer.java:615)\n",
      "\tat scala.collection.immutable.StringLike.toInt(StringLike.scala:304)\n",
      "\tat scala.collection.immutable.StringLike.toInt$(StringLike.scala:304)\n",
      "\tat scala.collection.immutable.StringOps.toInt(StringOps.scala:33)\n",
      "\tat org.apache.spark.sql.catalyst.csv.UnivocityParser.$anonfun$makeConverter$6(UnivocityParser.scala:189)\n",
      "\tat org.apache.spark.sql.catalyst.csv.UnivocityParser.$anonfun$makeConverter$6$adapted(UnivocityParser.scala:189)\n",
      "\tat org.apache.spark.sql.catalyst.csv.UnivocityParser.nullSafeDatum(UnivocityParser.scala:291)\n",
      "\tat org.apache.spark.sql.catalyst.csv.UnivocityParser.$anonfun$makeConverter$5(UnivocityParser.scala:189)\n",
      "\tat org.apache.spark.sql.catalyst.csv.UnivocityParser.org$apache$spark$sql$catalyst$csv$UnivocityParser$$convert(UnivocityParser.scala:346)\n",
      "\t... 27 more\n",
      "23/09/25 04:14:59 WARN TaskSetManager: Lost task 0.0 in stage 11.0 (TID 12) (ip-172-31-11-196.ap-south-1.compute.internal executor driver): org.apache.spark.SparkException: [MALFORMED_RECORD_IN_PARSING] Malformed records are detected in record parsing: [null,ccc,9000.0].\n",
      "Parse Mode: FAILFAST. To process malformed records as null result, try setting the option 'mode' as 'PERMISSIVE'.\n",
      "\tat org.apache.spark.sql.errors.QueryExecutionErrors$.malformedRecordsDetectedInRecordParsingError(QueryExecutionErrors.scala:1764)\n",
      "\tat org.apache.spark.sql.catalyst.util.FailureSafeParser.parse(FailureSafeParser.scala:69)\n",
      "\tat org.apache.spark.sql.catalyst.csv.UnivocityParser$.$anonfun$parseIterator$2(UnivocityParser.scala:456)\n",
      "\tat scala.collection.Iterator$$anon$11.nextCur(Iterator.scala:486)\n",
      "\tat scala.collection.Iterator$$anon$11.hasNext(Iterator.scala:492)\n",
      "\tat scala.collection.Iterator$$anon$10.hasNext(Iterator.scala:460)\n",
      "\tat org.apache.spark.sql.execution.datasources.FileScanRDD$$anon$1.hasNext(FileScanRDD.scala:125)\n",
      "\tat scala.collection.Iterator$$anon$10.hasNext(Iterator.scala:460)\n",
      "\tat org.apache.spark.sql.catalyst.expressions.GeneratedClass$GeneratedIteratorForCodegenStage1.processNext(Unknown Source)\n",
      "\tat org.apache.spark.sql.execution.BufferedRowIterator.hasNext(BufferedRowIterator.java:43)\n",
      "\tat org.apache.spark.sql.execution.WholeStageCodegenExec$$anon$1.hasNext(WholeStageCodegenExec.scala:760)\n",
      "\tat org.apache.spark.sql.execution.SparkPlan.$anonfun$getByteArrayRdd$1(SparkPlan.scala:388)\n",
      "\tat org.apache.spark.rdd.RDD.$anonfun$mapPartitionsInternal$2(RDD.scala:888)\n",
      "\tat org.apache.spark.rdd.RDD.$anonfun$mapPartitionsInternal$2$adapted(RDD.scala:888)\n",
      "\tat org.apache.spark.rdd.MapPartitionsRDD.compute(MapPartitionsRDD.scala:52)\n",
      "\tat org.apache.spark.rdd.RDD.computeOrReadCheckpoint(RDD.scala:364)\n",
      "\tat org.apache.spark.rdd.RDD.iterator(RDD.scala:328)\n",
      "\tat org.apache.spark.scheduler.ResultTask.runTask(ResultTask.scala:92)\n",
      "\tat org.apache.spark.TaskContext.runTaskWithListeners(TaskContext.scala:161)\n",
      "\tat org.apache.spark.scheduler.Task.run(Task.scala:139)\n",
      "\tat org.apache.spark.executor.Executor$TaskRunner.$anonfun$run$3(Executor.scala:554)\n",
      "\tat org.apache.spark.util.Utils$.tryWithSafeFinally(Utils.scala:1529)\n",
      "\tat org.apache.spark.executor.Executor$TaskRunner.run(Executor.scala:557)\n",
      "\tat java.util.concurrent.ThreadPoolExecutor.runWorker(ThreadPoolExecutor.java:1149)\n",
      "\tat java.util.concurrent.ThreadPoolExecutor$Worker.run(ThreadPoolExecutor.java:624)\n",
      "\tat java.lang.Thread.run(Thread.java:750)\n",
      "Caused by: org.apache.spark.sql.catalyst.util.BadRecordException: java.lang.NumberFormatException: For input string: \"NULL\"\n",
      "\tat org.apache.spark.sql.catalyst.csv.UnivocityParser.org$apache$spark$sql$catalyst$csv$UnivocityParser$$convert(UnivocityParser.scala:365)\n",
      "\tat org.apache.spark.sql.catalyst.csv.UnivocityParser.$anonfun$parse$2(UnivocityParser.scala:307)\n",
      "\tat org.apache.spark.sql.catalyst.csv.UnivocityParser$.$anonfun$parseIterator$1(UnivocityParser.scala:452)\n",
      "\tat org.apache.spark.sql.catalyst.util.FailureSafeParser.parse(FailureSafeParser.scala:60)\n",
      "\t... 24 more\n",
      "Caused by: java.lang.NumberFormatException: For input string: \"NULL\"\n",
      "\tat java.lang.NumberFormatException.forInputString(NumberFormatException.java:65)\n",
      "\tat java.lang.Integer.parseInt(Integer.java:580)\n",
      "\tat java.lang.Integer.parseInt(Integer.java:615)\n",
      "\tat scala.collection.immutable.StringLike.toInt(StringLike.scala:304)\n",
      "\tat scala.collection.immutable.StringLike.toInt$(StringLike.scala:304)\n",
      "\tat scala.collection.immutable.StringOps.toInt(StringOps.scala:33)\n",
      "\tat org.apache.spark.sql.catalyst.csv.UnivocityParser.$anonfun$makeConverter$6(UnivocityParser.scala:189)\n",
      "\tat org.apache.spark.sql.catalyst.csv.UnivocityParser.$anonfun$makeConverter$6$adapted(UnivocityParser.scala:189)\n",
      "\tat org.apache.spark.sql.catalyst.csv.UnivocityParser.nullSafeDatum(UnivocityParser.scala:291)\n",
      "\tat org.apache.spark.sql.catalyst.csv.UnivocityParser.$anonfun$makeConverter$5(UnivocityParser.scala:189)\n",
      "\tat org.apache.spark.sql.catalyst.csv.UnivocityParser.org$apache$spark$sql$catalyst$csv$UnivocityParser$$convert(UnivocityParser.scala:346)\n",
      "\t... 27 more\n",
      "\n",
      "23/09/25 04:14:59 ERROR TaskSetManager: Task 0 in stage 11.0 failed 1 times; aborting job\n"
     ]
    },
    {
     "ename": "Py4JJavaError",
     "evalue": "An error occurred while calling o92.showString.\n: org.apache.spark.SparkException: Job aborted due to stage failure: Task 0 in stage 11.0 failed 1 times, most recent failure: Lost task 0.0 in stage 11.0 (TID 12) (ip-172-31-11-196.ap-south-1.compute.internal executor driver): org.apache.spark.SparkException: [MALFORMED_RECORD_IN_PARSING] Malformed records are detected in record parsing: [null,ccc,9000.0].\nParse Mode: FAILFAST. To process malformed records as null result, try setting the option 'mode' as 'PERMISSIVE'.\n\tat org.apache.spark.sql.errors.QueryExecutionErrors$.malformedRecordsDetectedInRecordParsingError(QueryExecutionErrors.scala:1764)\n\tat org.apache.spark.sql.catalyst.util.FailureSafeParser.parse(FailureSafeParser.scala:69)\n\tat org.apache.spark.sql.catalyst.csv.UnivocityParser$.$anonfun$parseIterator$2(UnivocityParser.scala:456)\n\tat scala.collection.Iterator$$anon$11.nextCur(Iterator.scala:486)\n\tat scala.collection.Iterator$$anon$11.hasNext(Iterator.scala:492)\n\tat scala.collection.Iterator$$anon$10.hasNext(Iterator.scala:460)\n\tat org.apache.spark.sql.execution.datasources.FileScanRDD$$anon$1.hasNext(FileScanRDD.scala:125)\n\tat scala.collection.Iterator$$anon$10.hasNext(Iterator.scala:460)\n\tat org.apache.spark.sql.catalyst.expressions.GeneratedClass$GeneratedIteratorForCodegenStage1.processNext(Unknown Source)\n\tat org.apache.spark.sql.execution.BufferedRowIterator.hasNext(BufferedRowIterator.java:43)\n\tat org.apache.spark.sql.execution.WholeStageCodegenExec$$anon$1.hasNext(WholeStageCodegenExec.scala:760)\n\tat org.apache.spark.sql.execution.SparkPlan.$anonfun$getByteArrayRdd$1(SparkPlan.scala:388)\n\tat org.apache.spark.rdd.RDD.$anonfun$mapPartitionsInternal$2(RDD.scala:888)\n\tat org.apache.spark.rdd.RDD.$anonfun$mapPartitionsInternal$2$adapted(RDD.scala:888)\n\tat org.apache.spark.rdd.MapPartitionsRDD.compute(MapPartitionsRDD.scala:52)\n\tat org.apache.spark.rdd.RDD.computeOrReadCheckpoint(RDD.scala:364)\n\tat org.apache.spark.rdd.RDD.iterator(RDD.scala:328)\n\tat org.apache.spark.scheduler.ResultTask.runTask(ResultTask.scala:92)\n\tat org.apache.spark.TaskContext.runTaskWithListeners(TaskContext.scala:161)\n\tat org.apache.spark.scheduler.Task.run(Task.scala:139)\n\tat org.apache.spark.executor.Executor$TaskRunner.$anonfun$run$3(Executor.scala:554)\n\tat org.apache.spark.util.Utils$.tryWithSafeFinally(Utils.scala:1529)\n\tat org.apache.spark.executor.Executor$TaskRunner.run(Executor.scala:557)\n\tat java.util.concurrent.ThreadPoolExecutor.runWorker(ThreadPoolExecutor.java:1149)\n\tat java.util.concurrent.ThreadPoolExecutor$Worker.run(ThreadPoolExecutor.java:624)\n\tat java.lang.Thread.run(Thread.java:750)\nCaused by: org.apache.spark.sql.catalyst.util.BadRecordException: java.lang.NumberFormatException: For input string: \"NULL\"\n\tat org.apache.spark.sql.catalyst.csv.UnivocityParser.org$apache$spark$sql$catalyst$csv$UnivocityParser$$convert(UnivocityParser.scala:365)\n\tat org.apache.spark.sql.catalyst.csv.UnivocityParser.$anonfun$parse$2(UnivocityParser.scala:307)\n\tat org.apache.spark.sql.catalyst.csv.UnivocityParser$.$anonfun$parseIterator$1(UnivocityParser.scala:452)\n\tat org.apache.spark.sql.catalyst.util.FailureSafeParser.parse(FailureSafeParser.scala:60)\n\t... 24 more\nCaused by: java.lang.NumberFormatException: For input string: \"NULL\"\n\tat java.lang.NumberFormatException.forInputString(NumberFormatException.java:65)\n\tat java.lang.Integer.parseInt(Integer.java:580)\n\tat java.lang.Integer.parseInt(Integer.java:615)\n\tat scala.collection.immutable.StringLike.toInt(StringLike.scala:304)\n\tat scala.collection.immutable.StringLike.toInt$(StringLike.scala:304)\n\tat scala.collection.immutable.StringOps.toInt(StringOps.scala:33)\n\tat org.apache.spark.sql.catalyst.csv.UnivocityParser.$anonfun$makeConverter$6(UnivocityParser.scala:189)\n\tat org.apache.spark.sql.catalyst.csv.UnivocityParser.$anonfun$makeConverter$6$adapted(UnivocityParser.scala:189)\n\tat org.apache.spark.sql.catalyst.csv.UnivocityParser.nullSafeDatum(UnivocityParser.scala:291)\n\tat org.apache.spark.sql.catalyst.csv.UnivocityParser.$anonfun$makeConverter$5(UnivocityParser.scala:189)\n\tat org.apache.spark.sql.catalyst.csv.UnivocityParser.org$apache$spark$sql$catalyst$csv$UnivocityParser$$convert(UnivocityParser.scala:346)\n\t... 27 more\n\nDriver stacktrace:\n\tat org.apache.spark.scheduler.DAGScheduler.failJobAndIndependentStages(DAGScheduler.scala:2785)\n\tat org.apache.spark.scheduler.DAGScheduler.$anonfun$abortStage$2(DAGScheduler.scala:2721)\n\tat org.apache.spark.scheduler.DAGScheduler.$anonfun$abortStage$2$adapted(DAGScheduler.scala:2720)\n\tat scala.collection.mutable.ResizableArray.foreach(ResizableArray.scala:62)\n\tat scala.collection.mutable.ResizableArray.foreach$(ResizableArray.scala:55)\n\tat scala.collection.mutable.ArrayBuffer.foreach(ArrayBuffer.scala:49)\n\tat org.apache.spark.scheduler.DAGScheduler.abortStage(DAGScheduler.scala:2720)\n\tat org.apache.spark.scheduler.DAGScheduler.$anonfun$handleTaskSetFailed$1(DAGScheduler.scala:1206)\n\tat org.apache.spark.scheduler.DAGScheduler.$anonfun$handleTaskSetFailed$1$adapted(DAGScheduler.scala:1206)\n\tat scala.Option.foreach(Option.scala:407)\n\tat org.apache.spark.scheduler.DAGScheduler.handleTaskSetFailed(DAGScheduler.scala:1206)\n\tat org.apache.spark.scheduler.DAGSchedulerEventProcessLoop.doOnReceive(DAGScheduler.scala:2984)\n\tat org.apache.spark.scheduler.DAGSchedulerEventProcessLoop.onReceive(DAGScheduler.scala:2923)\n\tat org.apache.spark.scheduler.DAGSchedulerEventProcessLoop.onReceive(DAGScheduler.scala:2912)\n\tat org.apache.spark.util.EventLoop$$anon$1.run(EventLoop.scala:49)\n\tat org.apache.spark.scheduler.DAGScheduler.runJob(DAGScheduler.scala:971)\n\tat org.apache.spark.SparkContext.runJob(SparkContext.scala:2263)\n\tat org.apache.spark.SparkContext.runJob(SparkContext.scala:2284)\n\tat org.apache.spark.SparkContext.runJob(SparkContext.scala:2303)\n\tat org.apache.spark.sql.execution.SparkPlan.executeTake(SparkPlan.scala:530)\n\tat org.apache.spark.sql.execution.SparkPlan.executeTake(SparkPlan.scala:483)\n\tat org.apache.spark.sql.execution.CollectLimitExec.executeCollect(limit.scala:61)\n\tat org.apache.spark.sql.Dataset.collectFromPlan(Dataset.scala:4177)\n\tat org.apache.spark.sql.Dataset.$anonfun$head$1(Dataset.scala:3161)\n\tat org.apache.spark.sql.Dataset.$anonfun$withAction$2(Dataset.scala:4167)\n\tat org.apache.spark.sql.execution.QueryExecution$.withInternalError(QueryExecution.scala:526)\n\tat org.apache.spark.sql.Dataset.$anonfun$withAction$1(Dataset.scala:4165)\n\tat org.apache.spark.sql.execution.SQLExecution$.$anonfun$withNewExecutionId$6(SQLExecution.scala:118)\n\tat org.apache.spark.sql.execution.SQLExecution$.withSQLConfPropagated(SQLExecution.scala:195)\n\tat org.apache.spark.sql.execution.SQLExecution$.$anonfun$withNewExecutionId$1(SQLExecution.scala:103)\n\tat org.apache.spark.sql.SparkSession.withActive(SparkSession.scala:827)\n\tat org.apache.spark.sql.execution.SQLExecution$.withNewExecutionId(SQLExecution.scala:65)\n\tat org.apache.spark.sql.Dataset.withAction(Dataset.scala:4165)\n\tat org.apache.spark.sql.Dataset.head(Dataset.scala:3161)\n\tat org.apache.spark.sql.Dataset.take(Dataset.scala:3382)\n\tat org.apache.spark.sql.Dataset.getRows(Dataset.scala:284)\n\tat org.apache.spark.sql.Dataset.showString(Dataset.scala:323)\n\tat sun.reflect.NativeMethodAccessorImpl.invoke0(Native Method)\n\tat sun.reflect.NativeMethodAccessorImpl.invoke(NativeMethodAccessorImpl.java:62)\n\tat sun.reflect.DelegatingMethodAccessorImpl.invoke(DelegatingMethodAccessorImpl.java:43)\n\tat java.lang.reflect.Method.invoke(Method.java:498)\n\tat py4j.reflection.MethodInvoker.invoke(MethodInvoker.java:244)\n\tat py4j.reflection.ReflectionEngine.invoke(ReflectionEngine.java:374)\n\tat py4j.Gateway.invoke(Gateway.java:282)\n\tat py4j.commands.AbstractCommand.invokeMethod(AbstractCommand.java:132)\n\tat py4j.commands.CallCommand.execute(CallCommand.java:79)\n\tat py4j.ClientServerConnection.waitForCommands(ClientServerConnection.java:182)\n\tat py4j.ClientServerConnection.run(ClientServerConnection.java:106)\n\tat java.lang.Thread.run(Thread.java:750)\nCaused by: org.apache.spark.SparkException: [MALFORMED_RECORD_IN_PARSING] Malformed records are detected in record parsing: [null,ccc,9000.0].\nParse Mode: FAILFAST. To process malformed records as null result, try setting the option 'mode' as 'PERMISSIVE'.\n\tat org.apache.spark.sql.errors.QueryExecutionErrors$.malformedRecordsDetectedInRecordParsingError(QueryExecutionErrors.scala:1764)\n\tat org.apache.spark.sql.catalyst.util.FailureSafeParser.parse(FailureSafeParser.scala:69)\n\tat org.apache.spark.sql.catalyst.csv.UnivocityParser$.$anonfun$parseIterator$2(UnivocityParser.scala:456)\n\tat scala.collection.Iterator$$anon$11.nextCur(Iterator.scala:486)\n\tat scala.collection.Iterator$$anon$11.hasNext(Iterator.scala:492)\n\tat scala.collection.Iterator$$anon$10.hasNext(Iterator.scala:460)\n\tat org.apache.spark.sql.execution.datasources.FileScanRDD$$anon$1.hasNext(FileScanRDD.scala:125)\n\tat scala.collection.Iterator$$anon$10.hasNext(Iterator.scala:460)\n\tat org.apache.spark.sql.catalyst.expressions.GeneratedClass$GeneratedIteratorForCodegenStage1.processNext(Unknown Source)\n\tat org.apache.spark.sql.execution.BufferedRowIterator.hasNext(BufferedRowIterator.java:43)\n\tat org.apache.spark.sql.execution.WholeStageCodegenExec$$anon$1.hasNext(WholeStageCodegenExec.scala:760)\n\tat org.apache.spark.sql.execution.SparkPlan.$anonfun$getByteArrayRdd$1(SparkPlan.scala:388)\n\tat org.apache.spark.rdd.RDD.$anonfun$mapPartitionsInternal$2(RDD.scala:888)\n\tat org.apache.spark.rdd.RDD.$anonfun$mapPartitionsInternal$2$adapted(RDD.scala:888)\n\tat org.apache.spark.rdd.MapPartitionsRDD.compute(MapPartitionsRDD.scala:52)\n\tat org.apache.spark.rdd.RDD.computeOrReadCheckpoint(RDD.scala:364)\n\tat org.apache.spark.rdd.RDD.iterator(RDD.scala:328)\n\tat org.apache.spark.scheduler.ResultTask.runTask(ResultTask.scala:92)\n\tat org.apache.spark.TaskContext.runTaskWithListeners(TaskContext.scala:161)\n\tat org.apache.spark.scheduler.Task.run(Task.scala:139)\n\tat org.apache.spark.executor.Executor$TaskRunner.$anonfun$run$3(Executor.scala:554)\n\tat org.apache.spark.util.Utils$.tryWithSafeFinally(Utils.scala:1529)\n\tat org.apache.spark.executor.Executor$TaskRunner.run(Executor.scala:557)\n\tat java.util.concurrent.ThreadPoolExecutor.runWorker(ThreadPoolExecutor.java:1149)\n\tat java.util.concurrent.ThreadPoolExecutor$Worker.run(ThreadPoolExecutor.java:624)\n\t... 1 more\nCaused by: org.apache.spark.sql.catalyst.util.BadRecordException: java.lang.NumberFormatException: For input string: \"NULL\"\n\tat org.apache.spark.sql.catalyst.csv.UnivocityParser.org$apache$spark$sql$catalyst$csv$UnivocityParser$$convert(UnivocityParser.scala:365)\n\tat org.apache.spark.sql.catalyst.csv.UnivocityParser.$anonfun$parse$2(UnivocityParser.scala:307)\n\tat org.apache.spark.sql.catalyst.csv.UnivocityParser$.$anonfun$parseIterator$1(UnivocityParser.scala:452)\n\tat org.apache.spark.sql.catalyst.util.FailureSafeParser.parse(FailureSafeParser.scala:60)\n\t... 24 more\nCaused by: java.lang.NumberFormatException: For input string: \"NULL\"\n\tat java.lang.NumberFormatException.forInputString(NumberFormatException.java:65)\n\tat java.lang.Integer.parseInt(Integer.java:580)\n\tat java.lang.Integer.parseInt(Integer.java:615)\n\tat scala.collection.immutable.StringLike.toInt(StringLike.scala:304)\n\tat scala.collection.immutable.StringLike.toInt$(StringLike.scala:304)\n\tat scala.collection.immutable.StringOps.toInt(StringOps.scala:33)\n\tat org.apache.spark.sql.catalyst.csv.UnivocityParser.$anonfun$makeConverter$6(UnivocityParser.scala:189)\n\tat org.apache.spark.sql.catalyst.csv.UnivocityParser.$anonfun$makeConverter$6$adapted(UnivocityParser.scala:189)\n\tat org.apache.spark.sql.catalyst.csv.UnivocityParser.nullSafeDatum(UnivocityParser.scala:291)\n\tat org.apache.spark.sql.catalyst.csv.UnivocityParser.$anonfun$makeConverter$5(UnivocityParser.scala:189)\n\tat org.apache.spark.sql.catalyst.csv.UnivocityParser.org$apache$spark$sql$catalyst$csv$UnivocityParser$$convert(UnivocityParser.scala:346)\n\t... 27 more\n",
     "output_type": "error",
     "traceback": [
      "\u001b[0;31m---------------------------------------------------------------------------\u001b[0m",
      "\u001b[0;31mPy4JJavaError\u001b[0m                             Traceback (most recent call last)",
      "Cell \u001b[0;32mIn[19], line 1\u001b[0m\n\u001b[0;32m----> 1\u001b[0m employeedf_failfast\u001b[38;5;241m.\u001b[39mshow()\n",
      "File \u001b[0;32m/opt/anaconda3/lib/python3.11/site-packages/pyspark/sql/dataframe.py:899\u001b[0m, in \u001b[0;36mDataFrame.show\u001b[0;34m(self, n, truncate, vertical)\u001b[0m\n\u001b[1;32m    893\u001b[0m     \u001b[38;5;28;01mraise\u001b[39;00m PySparkTypeError(\n\u001b[1;32m    894\u001b[0m         error_class\u001b[38;5;241m=\u001b[39m\u001b[38;5;124m\"\u001b[39m\u001b[38;5;124mNOT_BOOL\u001b[39m\u001b[38;5;124m\"\u001b[39m,\n\u001b[1;32m    895\u001b[0m         message_parameters\u001b[38;5;241m=\u001b[39m{\u001b[38;5;124m\"\u001b[39m\u001b[38;5;124marg_name\u001b[39m\u001b[38;5;124m\"\u001b[39m: \u001b[38;5;124m\"\u001b[39m\u001b[38;5;124mvertical\u001b[39m\u001b[38;5;124m\"\u001b[39m, \u001b[38;5;124m\"\u001b[39m\u001b[38;5;124marg_type\u001b[39m\u001b[38;5;124m\"\u001b[39m: \u001b[38;5;28mtype\u001b[39m(vertical)\u001b[38;5;241m.\u001b[39m\u001b[38;5;18m__name__\u001b[39m},\n\u001b[1;32m    896\u001b[0m     )\n\u001b[1;32m    898\u001b[0m \u001b[38;5;28;01mif\u001b[39;00m \u001b[38;5;28misinstance\u001b[39m(truncate, \u001b[38;5;28mbool\u001b[39m) \u001b[38;5;129;01mand\u001b[39;00m truncate:\n\u001b[0;32m--> 899\u001b[0m     \u001b[38;5;28mprint\u001b[39m(\u001b[38;5;28mself\u001b[39m\u001b[38;5;241m.\u001b[39m_jdf\u001b[38;5;241m.\u001b[39mshowString(n, \u001b[38;5;241m20\u001b[39m, vertical))\n\u001b[1;32m    900\u001b[0m \u001b[38;5;28;01melse\u001b[39;00m:\n\u001b[1;32m    901\u001b[0m     \u001b[38;5;28;01mtry\u001b[39;00m:\n",
      "File \u001b[0;32m/opt/anaconda3/lib/python3.11/site-packages/py4j/java_gateway.py:1322\u001b[0m, in \u001b[0;36mJavaMember.__call__\u001b[0;34m(self, *args)\u001b[0m\n\u001b[1;32m   1316\u001b[0m command \u001b[38;5;241m=\u001b[39m proto\u001b[38;5;241m.\u001b[39mCALL_COMMAND_NAME \u001b[38;5;241m+\u001b[39m\\\n\u001b[1;32m   1317\u001b[0m     \u001b[38;5;28mself\u001b[39m\u001b[38;5;241m.\u001b[39mcommand_header \u001b[38;5;241m+\u001b[39m\\\n\u001b[1;32m   1318\u001b[0m     args_command \u001b[38;5;241m+\u001b[39m\\\n\u001b[1;32m   1319\u001b[0m     proto\u001b[38;5;241m.\u001b[39mEND_COMMAND_PART\n\u001b[1;32m   1321\u001b[0m answer \u001b[38;5;241m=\u001b[39m \u001b[38;5;28mself\u001b[39m\u001b[38;5;241m.\u001b[39mgateway_client\u001b[38;5;241m.\u001b[39msend_command(command)\n\u001b[0;32m-> 1322\u001b[0m return_value \u001b[38;5;241m=\u001b[39m get_return_value(\n\u001b[1;32m   1323\u001b[0m     answer, \u001b[38;5;28mself\u001b[39m\u001b[38;5;241m.\u001b[39mgateway_client, \u001b[38;5;28mself\u001b[39m\u001b[38;5;241m.\u001b[39mtarget_id, \u001b[38;5;28mself\u001b[39m\u001b[38;5;241m.\u001b[39mname)\n\u001b[1;32m   1325\u001b[0m \u001b[38;5;28;01mfor\u001b[39;00m temp_arg \u001b[38;5;129;01min\u001b[39;00m temp_args:\n\u001b[1;32m   1326\u001b[0m     \u001b[38;5;28;01mif\u001b[39;00m \u001b[38;5;28mhasattr\u001b[39m(temp_arg, \u001b[38;5;124m\"\u001b[39m\u001b[38;5;124m_detach\u001b[39m\u001b[38;5;124m\"\u001b[39m):\n",
      "File \u001b[0;32m/opt/anaconda3/lib/python3.11/site-packages/pyspark/errors/exceptions/captured.py:169\u001b[0m, in \u001b[0;36mcapture_sql_exception.<locals>.deco\u001b[0;34m(*a, **kw)\u001b[0m\n\u001b[1;32m    167\u001b[0m \u001b[38;5;28;01mdef\u001b[39;00m \u001b[38;5;21mdeco\u001b[39m(\u001b[38;5;241m*\u001b[39ma: Any, \u001b[38;5;241m*\u001b[39m\u001b[38;5;241m*\u001b[39mkw: Any) \u001b[38;5;241m-\u001b[39m\u001b[38;5;241m>\u001b[39m Any:\n\u001b[1;32m    168\u001b[0m     \u001b[38;5;28;01mtry\u001b[39;00m:\n\u001b[0;32m--> 169\u001b[0m         \u001b[38;5;28;01mreturn\u001b[39;00m f(\u001b[38;5;241m*\u001b[39ma, \u001b[38;5;241m*\u001b[39m\u001b[38;5;241m*\u001b[39mkw)\n\u001b[1;32m    170\u001b[0m     \u001b[38;5;28;01mexcept\u001b[39;00m Py4JJavaError \u001b[38;5;28;01mas\u001b[39;00m e:\n\u001b[1;32m    171\u001b[0m         converted \u001b[38;5;241m=\u001b[39m convert_exception(e\u001b[38;5;241m.\u001b[39mjava_exception)\n",
      "File \u001b[0;32m/opt/anaconda3/lib/python3.11/site-packages/py4j/protocol.py:326\u001b[0m, in \u001b[0;36mget_return_value\u001b[0;34m(answer, gateway_client, target_id, name)\u001b[0m\n\u001b[1;32m    324\u001b[0m value \u001b[38;5;241m=\u001b[39m OUTPUT_CONVERTER[\u001b[38;5;28mtype\u001b[39m](answer[\u001b[38;5;241m2\u001b[39m:], gateway_client)\n\u001b[1;32m    325\u001b[0m \u001b[38;5;28;01mif\u001b[39;00m answer[\u001b[38;5;241m1\u001b[39m] \u001b[38;5;241m==\u001b[39m REFERENCE_TYPE:\n\u001b[0;32m--> 326\u001b[0m     \u001b[38;5;28;01mraise\u001b[39;00m Py4JJavaError(\n\u001b[1;32m    327\u001b[0m         \u001b[38;5;124m\"\u001b[39m\u001b[38;5;124mAn error occurred while calling \u001b[39m\u001b[38;5;132;01m{0}\u001b[39;00m\u001b[38;5;132;01m{1}\u001b[39;00m\u001b[38;5;132;01m{2}\u001b[39;00m\u001b[38;5;124m.\u001b[39m\u001b[38;5;130;01m\\n\u001b[39;00m\u001b[38;5;124m\"\u001b[39m\u001b[38;5;241m.\u001b[39m\n\u001b[1;32m    328\u001b[0m         \u001b[38;5;28mformat\u001b[39m(target_id, \u001b[38;5;124m\"\u001b[39m\u001b[38;5;124m.\u001b[39m\u001b[38;5;124m\"\u001b[39m, name), value)\n\u001b[1;32m    329\u001b[0m \u001b[38;5;28;01melse\u001b[39;00m:\n\u001b[1;32m    330\u001b[0m     \u001b[38;5;28;01mraise\u001b[39;00m Py4JError(\n\u001b[1;32m    331\u001b[0m         \u001b[38;5;124m\"\u001b[39m\u001b[38;5;124mAn error occurred while calling \u001b[39m\u001b[38;5;132;01m{0}\u001b[39;00m\u001b[38;5;132;01m{1}\u001b[39;00m\u001b[38;5;132;01m{2}\u001b[39;00m\u001b[38;5;124m. Trace:\u001b[39m\u001b[38;5;130;01m\\n\u001b[39;00m\u001b[38;5;132;01m{3}\u001b[39;00m\u001b[38;5;130;01m\\n\u001b[39;00m\u001b[38;5;124m\"\u001b[39m\u001b[38;5;241m.\u001b[39m\n\u001b[1;32m    332\u001b[0m         \u001b[38;5;28mformat\u001b[39m(target_id, \u001b[38;5;124m\"\u001b[39m\u001b[38;5;124m.\u001b[39m\u001b[38;5;124m\"\u001b[39m, name, value))\n",
      "\u001b[0;31mPy4JJavaError\u001b[0m: An error occurred while calling o92.showString.\n: org.apache.spark.SparkException: Job aborted due to stage failure: Task 0 in stage 11.0 failed 1 times, most recent failure: Lost task 0.0 in stage 11.0 (TID 12) (ip-172-31-11-196.ap-south-1.compute.internal executor driver): org.apache.spark.SparkException: [MALFORMED_RECORD_IN_PARSING] Malformed records are detected in record parsing: [null,ccc,9000.0].\nParse Mode: FAILFAST. To process malformed records as null result, try setting the option 'mode' as 'PERMISSIVE'.\n\tat org.apache.spark.sql.errors.QueryExecutionErrors$.malformedRecordsDetectedInRecordParsingError(QueryExecutionErrors.scala:1764)\n\tat org.apache.spark.sql.catalyst.util.FailureSafeParser.parse(FailureSafeParser.scala:69)\n\tat org.apache.spark.sql.catalyst.csv.UnivocityParser$.$anonfun$parseIterator$2(UnivocityParser.scala:456)\n\tat scala.collection.Iterator$$anon$11.nextCur(Iterator.scala:486)\n\tat scala.collection.Iterator$$anon$11.hasNext(Iterator.scala:492)\n\tat scala.collection.Iterator$$anon$10.hasNext(Iterator.scala:460)\n\tat org.apache.spark.sql.execution.datasources.FileScanRDD$$anon$1.hasNext(FileScanRDD.scala:125)\n\tat scala.collection.Iterator$$anon$10.hasNext(Iterator.scala:460)\n\tat org.apache.spark.sql.catalyst.expressions.GeneratedClass$GeneratedIteratorForCodegenStage1.processNext(Unknown Source)\n\tat org.apache.spark.sql.execution.BufferedRowIterator.hasNext(BufferedRowIterator.java:43)\n\tat org.apache.spark.sql.execution.WholeStageCodegenExec$$anon$1.hasNext(WholeStageCodegenExec.scala:760)\n\tat org.apache.spark.sql.execution.SparkPlan.$anonfun$getByteArrayRdd$1(SparkPlan.scala:388)\n\tat org.apache.spark.rdd.RDD.$anonfun$mapPartitionsInternal$2(RDD.scala:888)\n\tat org.apache.spark.rdd.RDD.$anonfun$mapPartitionsInternal$2$adapted(RDD.scala:888)\n\tat org.apache.spark.rdd.MapPartitionsRDD.compute(MapPartitionsRDD.scala:52)\n\tat org.apache.spark.rdd.RDD.computeOrReadCheckpoint(RDD.scala:364)\n\tat org.apache.spark.rdd.RDD.iterator(RDD.scala:328)\n\tat org.apache.spark.scheduler.ResultTask.runTask(ResultTask.scala:92)\n\tat org.apache.spark.TaskContext.runTaskWithListeners(TaskContext.scala:161)\n\tat org.apache.spark.scheduler.Task.run(Task.scala:139)\n\tat org.apache.spark.executor.Executor$TaskRunner.$anonfun$run$3(Executor.scala:554)\n\tat org.apache.spark.util.Utils$.tryWithSafeFinally(Utils.scala:1529)\n\tat org.apache.spark.executor.Executor$TaskRunner.run(Executor.scala:557)\n\tat java.util.concurrent.ThreadPoolExecutor.runWorker(ThreadPoolExecutor.java:1149)\n\tat java.util.concurrent.ThreadPoolExecutor$Worker.run(ThreadPoolExecutor.java:624)\n\tat java.lang.Thread.run(Thread.java:750)\nCaused by: org.apache.spark.sql.catalyst.util.BadRecordException: java.lang.NumberFormatException: For input string: \"NULL\"\n\tat org.apache.spark.sql.catalyst.csv.UnivocityParser.org$apache$spark$sql$catalyst$csv$UnivocityParser$$convert(UnivocityParser.scala:365)\n\tat org.apache.spark.sql.catalyst.csv.UnivocityParser.$anonfun$parse$2(UnivocityParser.scala:307)\n\tat org.apache.spark.sql.catalyst.csv.UnivocityParser$.$anonfun$parseIterator$1(UnivocityParser.scala:452)\n\tat org.apache.spark.sql.catalyst.util.FailureSafeParser.parse(FailureSafeParser.scala:60)\n\t... 24 more\nCaused by: java.lang.NumberFormatException: For input string: \"NULL\"\n\tat java.lang.NumberFormatException.forInputString(NumberFormatException.java:65)\n\tat java.lang.Integer.parseInt(Integer.java:580)\n\tat java.lang.Integer.parseInt(Integer.java:615)\n\tat scala.collection.immutable.StringLike.toInt(StringLike.scala:304)\n\tat scala.collection.immutable.StringLike.toInt$(StringLike.scala:304)\n\tat scala.collection.immutable.StringOps.toInt(StringOps.scala:33)\n\tat org.apache.spark.sql.catalyst.csv.UnivocityParser.$anonfun$makeConverter$6(UnivocityParser.scala:189)\n\tat org.apache.spark.sql.catalyst.csv.UnivocityParser.$anonfun$makeConverter$6$adapted(UnivocityParser.scala:189)\n\tat org.apache.spark.sql.catalyst.csv.UnivocityParser.nullSafeDatum(UnivocityParser.scala:291)\n\tat org.apache.spark.sql.catalyst.csv.UnivocityParser.$anonfun$makeConverter$5(UnivocityParser.scala:189)\n\tat org.apache.spark.sql.catalyst.csv.UnivocityParser.org$apache$spark$sql$catalyst$csv$UnivocityParser$$convert(UnivocityParser.scala:346)\n\t... 27 more\n\nDriver stacktrace:\n\tat org.apache.spark.scheduler.DAGScheduler.failJobAndIndependentStages(DAGScheduler.scala:2785)\n\tat org.apache.spark.scheduler.DAGScheduler.$anonfun$abortStage$2(DAGScheduler.scala:2721)\n\tat org.apache.spark.scheduler.DAGScheduler.$anonfun$abortStage$2$adapted(DAGScheduler.scala:2720)\n\tat scala.collection.mutable.ResizableArray.foreach(ResizableArray.scala:62)\n\tat scala.collection.mutable.ResizableArray.foreach$(ResizableArray.scala:55)\n\tat scala.collection.mutable.ArrayBuffer.foreach(ArrayBuffer.scala:49)\n\tat org.apache.spark.scheduler.DAGScheduler.abortStage(DAGScheduler.scala:2720)\n\tat org.apache.spark.scheduler.DAGScheduler.$anonfun$handleTaskSetFailed$1(DAGScheduler.scala:1206)\n\tat org.apache.spark.scheduler.DAGScheduler.$anonfun$handleTaskSetFailed$1$adapted(DAGScheduler.scala:1206)\n\tat scala.Option.foreach(Option.scala:407)\n\tat org.apache.spark.scheduler.DAGScheduler.handleTaskSetFailed(DAGScheduler.scala:1206)\n\tat org.apache.spark.scheduler.DAGSchedulerEventProcessLoop.doOnReceive(DAGScheduler.scala:2984)\n\tat org.apache.spark.scheduler.DAGSchedulerEventProcessLoop.onReceive(DAGScheduler.scala:2923)\n\tat org.apache.spark.scheduler.DAGSchedulerEventProcessLoop.onReceive(DAGScheduler.scala:2912)\n\tat org.apache.spark.util.EventLoop$$anon$1.run(EventLoop.scala:49)\n\tat org.apache.spark.scheduler.DAGScheduler.runJob(DAGScheduler.scala:971)\n\tat org.apache.spark.SparkContext.runJob(SparkContext.scala:2263)\n\tat org.apache.spark.SparkContext.runJob(SparkContext.scala:2284)\n\tat org.apache.spark.SparkContext.runJob(SparkContext.scala:2303)\n\tat org.apache.spark.sql.execution.SparkPlan.executeTake(SparkPlan.scala:530)\n\tat org.apache.spark.sql.execution.SparkPlan.executeTake(SparkPlan.scala:483)\n\tat org.apache.spark.sql.execution.CollectLimitExec.executeCollect(limit.scala:61)\n\tat org.apache.spark.sql.Dataset.collectFromPlan(Dataset.scala:4177)\n\tat org.apache.spark.sql.Dataset.$anonfun$head$1(Dataset.scala:3161)\n\tat org.apache.spark.sql.Dataset.$anonfun$withAction$2(Dataset.scala:4167)\n\tat org.apache.spark.sql.execution.QueryExecution$.withInternalError(QueryExecution.scala:526)\n\tat org.apache.spark.sql.Dataset.$anonfun$withAction$1(Dataset.scala:4165)\n\tat org.apache.spark.sql.execution.SQLExecution$.$anonfun$withNewExecutionId$6(SQLExecution.scala:118)\n\tat org.apache.spark.sql.execution.SQLExecution$.withSQLConfPropagated(SQLExecution.scala:195)\n\tat org.apache.spark.sql.execution.SQLExecution$.$anonfun$withNewExecutionId$1(SQLExecution.scala:103)\n\tat org.apache.spark.sql.SparkSession.withActive(SparkSession.scala:827)\n\tat org.apache.spark.sql.execution.SQLExecution$.withNewExecutionId(SQLExecution.scala:65)\n\tat org.apache.spark.sql.Dataset.withAction(Dataset.scala:4165)\n\tat org.apache.spark.sql.Dataset.head(Dataset.scala:3161)\n\tat org.apache.spark.sql.Dataset.take(Dataset.scala:3382)\n\tat org.apache.spark.sql.Dataset.getRows(Dataset.scala:284)\n\tat org.apache.spark.sql.Dataset.showString(Dataset.scala:323)\n\tat sun.reflect.NativeMethodAccessorImpl.invoke0(Native Method)\n\tat sun.reflect.NativeMethodAccessorImpl.invoke(NativeMethodAccessorImpl.java:62)\n\tat sun.reflect.DelegatingMethodAccessorImpl.invoke(DelegatingMethodAccessorImpl.java:43)\n\tat java.lang.reflect.Method.invoke(Method.java:498)\n\tat py4j.reflection.MethodInvoker.invoke(MethodInvoker.java:244)\n\tat py4j.reflection.ReflectionEngine.invoke(ReflectionEngine.java:374)\n\tat py4j.Gateway.invoke(Gateway.java:282)\n\tat py4j.commands.AbstractCommand.invokeMethod(AbstractCommand.java:132)\n\tat py4j.commands.CallCommand.execute(CallCommand.java:79)\n\tat py4j.ClientServerConnection.waitForCommands(ClientServerConnection.java:182)\n\tat py4j.ClientServerConnection.run(ClientServerConnection.java:106)\n\tat java.lang.Thread.run(Thread.java:750)\nCaused by: org.apache.spark.SparkException: [MALFORMED_RECORD_IN_PARSING] Malformed records are detected in record parsing: [null,ccc,9000.0].\nParse Mode: FAILFAST. To process malformed records as null result, try setting the option 'mode' as 'PERMISSIVE'.\n\tat org.apache.spark.sql.errors.QueryExecutionErrors$.malformedRecordsDetectedInRecordParsingError(QueryExecutionErrors.scala:1764)\n\tat org.apache.spark.sql.catalyst.util.FailureSafeParser.parse(FailureSafeParser.scala:69)\n\tat org.apache.spark.sql.catalyst.csv.UnivocityParser$.$anonfun$parseIterator$2(UnivocityParser.scala:456)\n\tat scala.collection.Iterator$$anon$11.nextCur(Iterator.scala:486)\n\tat scala.collection.Iterator$$anon$11.hasNext(Iterator.scala:492)\n\tat scala.collection.Iterator$$anon$10.hasNext(Iterator.scala:460)\n\tat org.apache.spark.sql.execution.datasources.FileScanRDD$$anon$1.hasNext(FileScanRDD.scala:125)\n\tat scala.collection.Iterator$$anon$10.hasNext(Iterator.scala:460)\n\tat org.apache.spark.sql.catalyst.expressions.GeneratedClass$GeneratedIteratorForCodegenStage1.processNext(Unknown Source)\n\tat org.apache.spark.sql.execution.BufferedRowIterator.hasNext(BufferedRowIterator.java:43)\n\tat org.apache.spark.sql.execution.WholeStageCodegenExec$$anon$1.hasNext(WholeStageCodegenExec.scala:760)\n\tat org.apache.spark.sql.execution.SparkPlan.$anonfun$getByteArrayRdd$1(SparkPlan.scala:388)\n\tat org.apache.spark.rdd.RDD.$anonfun$mapPartitionsInternal$2(RDD.scala:888)\n\tat org.apache.spark.rdd.RDD.$anonfun$mapPartitionsInternal$2$adapted(RDD.scala:888)\n\tat org.apache.spark.rdd.MapPartitionsRDD.compute(MapPartitionsRDD.scala:52)\n\tat org.apache.spark.rdd.RDD.computeOrReadCheckpoint(RDD.scala:364)\n\tat org.apache.spark.rdd.RDD.iterator(RDD.scala:328)\n\tat org.apache.spark.scheduler.ResultTask.runTask(ResultTask.scala:92)\n\tat org.apache.spark.TaskContext.runTaskWithListeners(TaskContext.scala:161)\n\tat org.apache.spark.scheduler.Task.run(Task.scala:139)\n\tat org.apache.spark.executor.Executor$TaskRunner.$anonfun$run$3(Executor.scala:554)\n\tat org.apache.spark.util.Utils$.tryWithSafeFinally(Utils.scala:1529)\n\tat org.apache.spark.executor.Executor$TaskRunner.run(Executor.scala:557)\n\tat java.util.concurrent.ThreadPoolExecutor.runWorker(ThreadPoolExecutor.java:1149)\n\tat java.util.concurrent.ThreadPoolExecutor$Worker.run(ThreadPoolExecutor.java:624)\n\t... 1 more\nCaused by: org.apache.spark.sql.catalyst.util.BadRecordException: java.lang.NumberFormatException: For input string: \"NULL\"\n\tat org.apache.spark.sql.catalyst.csv.UnivocityParser.org$apache$spark$sql$catalyst$csv$UnivocityParser$$convert(UnivocityParser.scala:365)\n\tat org.apache.spark.sql.catalyst.csv.UnivocityParser.$anonfun$parse$2(UnivocityParser.scala:307)\n\tat org.apache.spark.sql.catalyst.csv.UnivocityParser$.$anonfun$parseIterator$1(UnivocityParser.scala:452)\n\tat org.apache.spark.sql.catalyst.util.FailureSafeParser.parse(FailureSafeParser.scala:60)\n\t... 24 more\nCaused by: java.lang.NumberFormatException: For input string: \"NULL\"\n\tat java.lang.NumberFormatException.forInputString(NumberFormatException.java:65)\n\tat java.lang.Integer.parseInt(Integer.java:580)\n\tat java.lang.Integer.parseInt(Integer.java:615)\n\tat scala.collection.immutable.StringLike.toInt(StringLike.scala:304)\n\tat scala.collection.immutable.StringLike.toInt$(StringLike.scala:304)\n\tat scala.collection.immutable.StringOps.toInt(StringOps.scala:33)\n\tat org.apache.spark.sql.catalyst.csv.UnivocityParser.$anonfun$makeConverter$6(UnivocityParser.scala:189)\n\tat org.apache.spark.sql.catalyst.csv.UnivocityParser.$anonfun$makeConverter$6$adapted(UnivocityParser.scala:189)\n\tat org.apache.spark.sql.catalyst.csv.UnivocityParser.nullSafeDatum(UnivocityParser.scala:291)\n\tat org.apache.spark.sql.catalyst.csv.UnivocityParser.$anonfun$makeConverter$5(UnivocityParser.scala:189)\n\tat org.apache.spark.sql.catalyst.csv.UnivocityParser.org$apache$spark$sql$catalyst$csv$UnivocityParser$$convert(UnivocityParser.scala:346)\n\t... 27 more\n"
     ]
    }
   ],
   "source": [
    "employeedf_failfast.show()"
   ]
  },
  {
   "cell_type": "code",
   "execution_count": null,
   "id": "650af49a",
   "metadata": {},
   "outputs": [],
   "source": [
    "salesdf.count()"
   ]
  },
  {
   "cell_type": "code",
   "execution_count": null,
   "id": "3f2e480e",
   "metadata": {},
   "outputs": [],
   "source": [
    "salesdf.head()"
   ]
  },
  {
   "cell_type": "code",
   "execution_count": null,
   "id": "dc48c0cc",
   "metadata": {},
   "outputs": [],
   "source": [
    "salesdf.rdd.getNumPartitions()"
   ]
  },
  {
   "cell_type": "code",
   "execution_count": null,
   "id": "5318f30e",
   "metadata": {},
   "outputs": [],
   "source": [
    "salesdf.show(2)"
   ]
  },
  {
   "cell_type": "code",
   "execution_count": null,
   "id": "ca5ac4d5",
   "metadata": {},
   "outputs": [],
   "source": [
    "salesdf.first()"
   ]
  },
  {
   "cell_type": "code",
   "execution_count": null,
   "id": "18ab6f40",
   "metadata": {},
   "outputs": [],
   "source": [
    "salesdf.select(\"country\",\"state\").show()"
   ]
  },
  {
   "cell_type": "code",
   "execution_count": null,
   "id": "abc9aea3",
   "metadata": {},
   "outputs": [],
   "source": [
    "salesdf.select(\"country\",\"state\").filter(\"country = 'India'\").show()"
   ]
  },
  {
   "cell_type": "code",
   "execution_count": null,
   "id": "b49581e4",
   "metadata": {},
   "outputs": [],
   "source": [
    "salesdf.select(\"country\",\"state\").filter(\"country = 'India'\").distinct().show()"
   ]
  },
  {
   "cell_type": "code",
   "execution_count": null,
   "id": "700bfa0f",
   "metadata": {},
   "outputs": [],
   "source": [
    "salesdf.select(\"country\",\"state\").filter(\"country = 'India'\").dropDuplicates().show()"
   ]
  },
  {
   "cell_type": "code",
   "execution_count": null,
   "id": "e714454e",
   "metadata": {},
   "outputs": [],
   "source": [
    "sales_Ind = salesdf.select(\"country\",\"state\",\"category\",\"profit\").filter(\"country = 'India'\").dropDuplicates()"
   ]
  },
  {
   "cell_type": "code",
   "execution_count": null,
   "id": "c2f60c93",
   "metadata": {},
   "outputs": [],
   "source": [
    "sales_Ind.show()"
   ]
  },
  {
   "cell_type": "code",
   "execution_count": null,
   "id": "b4065a71",
   "metadata": {},
   "outputs": [],
   "source": [
    "spark.sparkContext.uiWebUrl"
   ]
  },
  {
   "cell_type": "code",
   "execution_count": null,
   "id": "6113327d",
   "metadata": {},
   "outputs": [],
   "source": [
    "sales_Ind.write.format(\"json\").save(\"/home/labuser/spark/sales_india\")"
   ]
  },
  {
   "cell_type": "code",
   "execution_count": null,
   "id": "aab7e86e",
   "metadata": {},
   "outputs": [],
   "source": [
    "sales_Ind.write.format(\"parquet\").save(\"/home/labuser/spark/sales_ind\")"
   ]
  },
  {
   "cell_type": "code",
   "execution_count": null,
   "id": "e7a0a382",
   "metadata": {},
   "outputs": [],
   "source": [
    "salesdf.rdd.getNumPartitions()"
   ]
  },
  {
   "cell_type": "code",
   "execution_count": null,
   "id": "2fbc4f4b",
   "metadata": {},
   "outputs": [],
   "source": [
    "#handling parallelism \n",
    "#functions to increase/descrease the no of partitions\n",
    "# 1.repartition : in/dec the no of partition\n",
    "# 2.coalease : decrease the no of partition"
   ]
  },
  {
   "cell_type": "code",
   "execution_count": null,
   "id": "74e99a75",
   "metadata": {},
   "outputs": [],
   "source": [
    "salesdf_rp = salesdf.repartition(5)"
   ]
  },
  {
   "cell_type": "code",
   "execution_count": null,
   "id": "81270e32",
   "metadata": {},
   "outputs": [],
   "source": [
    "salesdf_rp.rdd.getNumPartitions()"
   ]
  },
  {
   "cell_type": "code",
   "execution_count": null,
   "id": "c571ec53",
   "metadata": {},
   "outputs": [],
   "source": [
    "salesdf.count()"
   ]
  },
  {
   "cell_type": "code",
   "execution_count": null,
   "id": "c3eb8f26",
   "metadata": {},
   "outputs": [],
   "source": [
    "salesdf_rp.count()"
   ]
  },
  {
   "cell_type": "code",
   "execution_count": null,
   "id": "c59d97a0",
   "metadata": {},
   "outputs": [],
   "source": [
    "salesdf_rp.write.parquet(\"/home/labuser/output/sales_repart\")"
   ]
  },
  {
   "cell_type": "code",
   "execution_count": null,
   "id": "68d07e47",
   "metadata": {},
   "outputs": [],
   "source": [
    "salesdf.repartition(8).write.orc(\"/home/labuser/output/sales_repart8\")"
   ]
  },
  {
   "cell_type": "code",
   "execution_count": null,
   "id": "ce3f9a68",
   "metadata": {},
   "outputs": [],
   "source": [
    "sales_parquet=spark.read.format(\"parquet\").load(\"/home/labuser/output/sales_repart\")\n"
   ]
  },
  {
   "cell_type": "code",
   "execution_count": null,
   "id": "90a6e27d",
   "metadata": {},
   "outputs": [],
   "source": [
    "sales_parquet1=spark.read.format(\"parquet\").load(\"/home/labuser/output/sales_repart/part-00000-124b74e6-5166-4cb4-b9ed-f20bf0d5bad5-c000.snappy.parquet\")\n"
   ]
  },
  {
   "cell_type": "code",
   "execution_count": null,
   "id": "a4c8a0b4",
   "metadata": {},
   "outputs": [],
   "source": [
    "sales_parquet.count()"
   ]
  },
  {
   "cell_type": "code",
   "execution_count": null,
   "id": "b606334c",
   "metadata": {},
   "outputs": [],
   "source": [
    "sales_parquet1.count()"
   ]
  },
  {
   "cell_type": "code",
   "execution_count": null,
   "id": "703b29a4",
   "metadata": {},
   "outputs": [],
   "source": [
    "sales_parquet.rdd.getNumPartitions()"
   ]
  },
  {
   "cell_type": "code",
   "execution_count": null,
   "id": "24ed7c31",
   "metadata": {},
   "outputs": [],
   "source": [
    "#diff bw repartition and colase\n",
    "#in repartition full shuffling of data takespalce\n",
    "#but in colesce no shuffling of data \n",
    "\n",
    "# dataframes are impersistant in spark"
   ]
  },
  {
   "cell_type": "code",
   "execution_count": null,
   "id": "7b7fdd39",
   "metadata": {},
   "outputs": [],
   "source": [
    "salesdf.createOrReplaceTempView(\"sales\")"
   ]
  },
  {
   "cell_type": "code",
   "execution_count": null,
   "id": "e6ee1b43",
   "metadata": {},
   "outputs": [],
   "source": [
    "spark.sql(\"show tables\").show()"
   ]
  },
  {
   "cell_type": "code",
   "execution_count": null,
   "id": "c680daf0",
   "metadata": {},
   "outputs": [],
   "source": [
    "spark.sql(\"select country , state from sales where country = 'India' \").show()"
   ]
  },
  {
   "cell_type": "code",
   "execution_count": null,
   "id": "0f12b912",
   "metadata": {},
   "outputs": [],
   "source": [
    "#create tabls\n",
    "#to create permanent -> Hive and Delta table"
   ]
  },
  {
   "cell_type": "code",
   "execution_count": 21,
   "id": "0477158e",
   "metadata": {},
   "outputs": [
    {
     "data": {
      "text/plain": [
       "DataFrame[]"
      ]
     },
     "execution_count": 21,
     "metadata": {},
     "output_type": "execute_result"
    }
   ],
   "source": [
    "spark.sql(\"create database shellida\")"
   ]
  },
  {
   "cell_type": "code",
   "execution_count": 22,
   "id": "7f713274",
   "metadata": {},
   "outputs": [
    {
     "name": "stdout",
     "output_type": "stream",
     "text": [
      "+---------+\n",
      "|namespace|\n",
      "+---------+\n",
      "|  default|\n",
      "| shellida|\n",
      "+---------+\n",
      "\n"
     ]
    }
   ],
   "source": [
    "spark.sql(\"show databases\").show()"
   ]
  },
  {
   "cell_type": "code",
   "execution_count": 23,
   "id": "88559a19",
   "metadata": {},
   "outputs": [
    {
     "data": {
      "text/plain": [
       "DataFrame[]"
      ]
     },
     "execution_count": 23,
     "metadata": {},
     "output_type": "execute_result"
    }
   ],
   "source": [
    "spark.sql(\"use shellida\")"
   ]
  },
  {
   "cell_type": "code",
   "execution_count": 24,
   "id": "fa8430f3",
   "metadata": {},
   "outputs": [
    {
     "ename": "SparkRuntimeException",
     "evalue": "[LOCATION_ALREADY_EXISTS] Cannot name the managed table as `spark_catalog`.`shellida`.`sales_perm`, as its associated location 'file:/home/labuser/spark-warehouse/shellida.db/sales_perm' already exists. Please pick a different table name, or remove the existing location first.",
     "output_type": "error",
     "traceback": [
      "\u001b[0;31m---------------------------------------------------------------------------\u001b[0m",
      "\u001b[0;31mSparkRuntimeException\u001b[0m                     Traceback (most recent call last)",
      "Cell \u001b[0;32mIn[24], line 1\u001b[0m\n\u001b[0;32m----> 1\u001b[0m salesdf\u001b[38;5;241m.\u001b[39mwrite\u001b[38;5;241m.\u001b[39msaveAsTable(\u001b[38;5;124m\"\u001b[39m\u001b[38;5;124mshellida.sales_perm\u001b[39m\u001b[38;5;124m\"\u001b[39m)\n",
      "File \u001b[0;32m/opt/anaconda3/lib/python3.11/site-packages/pyspark/sql/readwriter.py:1521\u001b[0m, in \u001b[0;36mDataFrameWriter.saveAsTable\u001b[0;34m(self, name, format, mode, partitionBy, **options)\u001b[0m\n\u001b[1;32m   1519\u001b[0m \u001b[38;5;28;01mif\u001b[39;00m \u001b[38;5;28mformat\u001b[39m \u001b[38;5;129;01mis\u001b[39;00m \u001b[38;5;129;01mnot\u001b[39;00m \u001b[38;5;28;01mNone\u001b[39;00m:\n\u001b[1;32m   1520\u001b[0m     \u001b[38;5;28mself\u001b[39m\u001b[38;5;241m.\u001b[39mformat(\u001b[38;5;28mformat\u001b[39m)\n\u001b[0;32m-> 1521\u001b[0m \u001b[38;5;28mself\u001b[39m\u001b[38;5;241m.\u001b[39m_jwrite\u001b[38;5;241m.\u001b[39msaveAsTable(name)\n",
      "File \u001b[0;32m/opt/anaconda3/lib/python3.11/site-packages/py4j/java_gateway.py:1322\u001b[0m, in \u001b[0;36mJavaMember.__call__\u001b[0;34m(self, *args)\u001b[0m\n\u001b[1;32m   1316\u001b[0m command \u001b[38;5;241m=\u001b[39m proto\u001b[38;5;241m.\u001b[39mCALL_COMMAND_NAME \u001b[38;5;241m+\u001b[39m\\\n\u001b[1;32m   1317\u001b[0m     \u001b[38;5;28mself\u001b[39m\u001b[38;5;241m.\u001b[39mcommand_header \u001b[38;5;241m+\u001b[39m\\\n\u001b[1;32m   1318\u001b[0m     args_command \u001b[38;5;241m+\u001b[39m\\\n\u001b[1;32m   1319\u001b[0m     proto\u001b[38;5;241m.\u001b[39mEND_COMMAND_PART\n\u001b[1;32m   1321\u001b[0m answer \u001b[38;5;241m=\u001b[39m \u001b[38;5;28mself\u001b[39m\u001b[38;5;241m.\u001b[39mgateway_client\u001b[38;5;241m.\u001b[39msend_command(command)\n\u001b[0;32m-> 1322\u001b[0m return_value \u001b[38;5;241m=\u001b[39m get_return_value(\n\u001b[1;32m   1323\u001b[0m     answer, \u001b[38;5;28mself\u001b[39m\u001b[38;5;241m.\u001b[39mgateway_client, \u001b[38;5;28mself\u001b[39m\u001b[38;5;241m.\u001b[39mtarget_id, \u001b[38;5;28mself\u001b[39m\u001b[38;5;241m.\u001b[39mname)\n\u001b[1;32m   1325\u001b[0m \u001b[38;5;28;01mfor\u001b[39;00m temp_arg \u001b[38;5;129;01min\u001b[39;00m temp_args:\n\u001b[1;32m   1326\u001b[0m     \u001b[38;5;28;01mif\u001b[39;00m \u001b[38;5;28mhasattr\u001b[39m(temp_arg, \u001b[38;5;124m\"\u001b[39m\u001b[38;5;124m_detach\u001b[39m\u001b[38;5;124m\"\u001b[39m):\n",
      "File \u001b[0;32m/opt/anaconda3/lib/python3.11/site-packages/pyspark/errors/exceptions/captured.py:175\u001b[0m, in \u001b[0;36mcapture_sql_exception.<locals>.deco\u001b[0;34m(*a, **kw)\u001b[0m\n\u001b[1;32m    171\u001b[0m converted \u001b[38;5;241m=\u001b[39m convert_exception(e\u001b[38;5;241m.\u001b[39mjava_exception)\n\u001b[1;32m    172\u001b[0m \u001b[38;5;28;01mif\u001b[39;00m \u001b[38;5;129;01mnot\u001b[39;00m \u001b[38;5;28misinstance\u001b[39m(converted, UnknownException):\n\u001b[1;32m    173\u001b[0m     \u001b[38;5;66;03m# Hide where the exception came from that shows a non-Pythonic\u001b[39;00m\n\u001b[1;32m    174\u001b[0m     \u001b[38;5;66;03m# JVM exception message.\u001b[39;00m\n\u001b[0;32m--> 175\u001b[0m     \u001b[38;5;28;01mraise\u001b[39;00m converted \u001b[38;5;28;01mfrom\u001b[39;00m \u001b[38;5;28;01mNone\u001b[39;00m\n\u001b[1;32m    176\u001b[0m \u001b[38;5;28;01melse\u001b[39;00m:\n\u001b[1;32m    177\u001b[0m     \u001b[38;5;28;01mraise\u001b[39;00m\n",
      "\u001b[0;31mSparkRuntimeException\u001b[0m: [LOCATION_ALREADY_EXISTS] Cannot name the managed table as `spark_catalog`.`shellida`.`sales_perm`, as its associated location 'file:/home/labuser/spark-warehouse/shellida.db/sales_perm' already exists. Please pick a different table name, or remove the existing location first."
     ]
    }
   ],
   "source": [
    "salesdf.write.saveAsTable(\"shellida.sales_perm\")"
   ]
  },
  {
   "cell_type": "code",
   "execution_count": 25,
   "id": "a65a54d7",
   "metadata": {},
   "outputs": [
    {
     "name": "stdout",
     "output_type": "stream",
     "text": [
      "+---------+---------+-----------+\n",
      "|namespace|tableName|isTemporary|\n",
      "+---------+---------+-----------+\n",
      "+---------+---------+-----------+\n",
      "\n"
     ]
    }
   ],
   "source": [
    "spark.sql(\"show tables\").show()"
   ]
  },
  {
   "cell_type": "code",
   "execution_count": 26,
   "id": "9829ae7a",
   "metadata": {},
   "outputs": [],
   "source": [
    "#caching\n",
    "empdf = spark.read.csv(\"/home/labuser/datasets/emp.csv\")"
   ]
  },
  {
   "cell_type": "code",
   "execution_count": 27,
   "id": "993283a4",
   "metadata": {},
   "outputs": [
    {
     "name": "stdout",
     "output_type": "stream",
     "text": [
      "+---+---+----+\n",
      "|_c0|_c1| _c2|\n",
      "+---+---+----+\n",
      "|111|zzz|8000|\n",
      "|111|aaa|8888|\n",
      "|121|bbb|8000|\n",
      "+---+---+----+\n",
      "\n"
     ]
    }
   ],
   "source": [
    "empdf.show()"
   ]
  },
  {
   "cell_type": "code",
   "execution_count": 28,
   "id": "df6aa6d2",
   "metadata": {},
   "outputs": [
    {
     "name": "stdout",
     "output_type": "stream",
     "text": [
      "+-----+---------------+----------+----------+--------------+----------+----------------+-----------+-------------+---------------+-------------+----------+------+------------+----------------+---------------+------------+--------------------+----------------+--------+--------+----------+------------+-------------+\n",
      "|   ID|        OrderID| OrderDate|  ShipDate|      ShipMode|CustomerID|    CustomerName|    Segment|         City|          State|      Country|PostalCode|Market|      Region|       ProductID|       Category|Sub-Category|         ProductName|           Sales|Quantity|Discount|    Profit|ShippingCost|OrderPriority|\n",
      "+-----+---------------+----------+----------+--------------+----------+----------------+-----------+-------------+---------------+-------------+----------+------+------------+----------------+---------------+------------+--------------------+----------------+--------+--------+----------+------------+-------------+\n",
      "|32298| CA-2012-124891|31/07/2012|31/07/2012|      Same Day|  RH-19495|     Rick Hansen|   Consumer|New York City|       New York|United States|     10024|    US|        East| TEC-AC-10003033|     Technology| Accessories|Plantronics CS510...|         2309.65|       7|       0|  762.1845|     933.57 |     Critical|\n",
      "|26341|  IN-2013-77878|05/02/2013|07/02/2013|  Second Class|  JR-16210|   Justin Ritter|  Corporate|   Wollongong|New South Wales|    Australia|      null|  APAC|     Oceania| FUR-CH-10003950|      Furniture|      Chairs|Novimex Executive...|           Black|3709.395|       9|       0.1|    -288.765|      923.63 |\n",
      "|25330|  IN-2013-71249|17/10/2013|18/10/2013|   First Class|  CR-12730|    Craig Reiter|   Consumer|     Brisbane|     Queensland|    Australia|      null|  APAC|     Oceania| TEC-PH-10004664|     Technology|      Phones|   Nokia Smart Phone|  with Caller ID|5175.171|       9|       0.1|     919.971|      915.49 |\n",
      "|13524|ES-2013-1579342|28/01/2013|30/01/2013|   First Class|  KM-16375|Katherine Murray|Home Office|       Berlin|         Berlin|      Germany|      null|    EU|     Central| TEC-PH-10004583|     Technology|      Phones|Motorola Smart Phone|        Cordless| 2892.51|       5|       0.1|      -96.54|      910.16 |\n",
      "|47221|   SG-2013-4320|05/11/2013|06/11/2013|      Same Day|   RH-9495|     Rick Hansen|   Consumer|        Dakar|          Dakar|      Senegal|      null|Africa|      Africa|TEC-SHA-10000501|     Technology|     Copiers|  Sharp Wireless Fax|      High-Speed| 2832.96|       8|         0|      311.52|      903.04 |\n",
      "|22732|  IN-2013-42360|28/06/2013|01/07/2013|  Second Class|  JM-15655|     Jim Mitchum|  Corporate|       Sydney|New South Wales|    Australia|      null|  APAC|     Oceania| TEC-PH-10000030|     Technology|      Phones| Samsung Smart Phone|  with Caller ID|2862.675|       5|       0.1|     763.275|      897.35 |\n",
      "|30570|  IN-2011-81826|07/11/2011|09/11/2011|   First Class|  TS-21340|   Toby Swindell|   Consumer|      Porirua|     Wellington|  New Zealand|      null|  APAC|     Oceania| FUR-CH-10004050|      Furniture|      Chairs|Novimex Executive...|      Adjustable| 1822.08|       4|         0|      564.84|       894.77|\n",
      "|31192|  IN-2012-86369|14/04/2012|18/04/2012|Standard Class|  MB-18085|      Mick Brown|   Consumer|     Hamilton|        Waikato|  New Zealand|      null|  APAC|     Oceania| FUR-TA-10002958|      Furniture|      Tables|Chromcraft Confer...| Fully Assembled| 5244.84|       6|         0|      996.48|       878.38|\n",
      "|40155| CA-2014-135909|14/10/2014|21/10/2014|Standard Class|  JW-15220|       Jane Waco|  Corporate|   Sacramento|     California|United States|     95823|    US|        West| OFF-BI-10003527|Office Supplies|     Binders|Fellowes PB500 El...|         5083.96|       5|     0.2|  1906.485|     867.69 |          Low|\n",
      "|40936| CA-2012-116638|28/01/2012|31/01/2012|  Second Class|  JH-15985|     Joseph Holt|   Consumer|      Concord| North Carolina|United States|     28027|    US|       South| FUR-TA-10000198|      Furniture|      Tables|Chromcraft Bull-N...|        4297.644|      13|     0.4|-1862.3124|     865.74 |     Critical|\n",
      "|34577| CA-2011-102988|05/04/2011|09/04/2011|  Second Class|  GM-14695|    Greg Maxwell|  Corporate|   Alexandria|       Virginia|United States|     22304|    US|       South| OFF-SU-10002881|Office Supplies|    Supplies|Martin Yale Chadl...|         4164.05|       5|       0|    83.281|     846.54 |         High|\n",
      "|28879|  ID-2012-28402|19/04/2012|22/04/2012|   First Class|  AJ-10780|  Anthony Jacobs|  Corporate|        Kabul|          Kabul|  Afghanistan|      null|  APAC|Central Asia| FUR-TA-10001889|      Furniture|      Tables|Bevis Conference ...| Fully Assembled| 4626.15|       5|         0|      647.55|      835.57 |\n",
      "|45794|   SA-2011-1830|27/12/2011|29/12/2011|  Second Class|   MM-7260| Magdelene Morse|   Consumer|        Jizan|          Jizan| Saudi Arabia|      null|  EMEA|        EMEA|TEC-CIS-10001717|     Technology|      Phones|   Cisco Smart Phone|  with Caller ID| 2616.96|       4|         0|      1151.4|      832.41 |\n",
      "| 4132| MX-2012-130015|13/11/2012|13/11/2012|      Same Day|  VF-21715|  Vicky Freymann|Home Office|       Toledo|         Parana|       Brazil|      null| LATAM|       South| FUR-CH-10002033|      Furniture|      Chairs|Harbour Creations...|      Adjustable|  2221.8|       7|         0|      622.02|      810.25 |\n",
      "|27704|  IN-2013-73951|06/06/2013|08/06/2013|  Second Class|  PF-19120|    Peter Fuller|   Consumer|   Mudanjiang|   Heilongjiang|        China|      null|  APAC|  North Asia| OFF-AP-10003500|Office Supplies|  Appliances|KitchenAid Microwave|           White| 3701.52|      12|         0|     1036.08|      804.54 |\n",
      "|13779|ES-2014-5099955|31/07/2014|03/08/2014|  Second Class|  BP-11185|    Ben Peterman|  Corporate|        Paris|  Ile-de-France|       France|      null|    EU|     Central| OFF-AP-10000423|Office Supplies|  Appliances|Breville Refriger...|             Red|1869.588|       4|       0.1|     186.948|      801.66 |\n",
      "|36178| CA-2014-143567|03/11/2014|06/11/2014|  Second Class|  TB-21175|   Thomas Boland|  Corporate|    Henderson|       Kentucky|United States|     42420|    US|       South| TEC-AC-10004145|     Technology| Accessories|Logitech diNovo E...|         2249.91|       9|       0|  517.4793|     780.70 |     Critical|\n",
      "|12069|ES-2014-1651774|08/09/2014|14/09/2014|Standard Class|  PJ-18835|   Patrick Jones|  Corporate|        Prato|        Tuscany|        Italy|      null|    EU|       South| OFF-AP-10004512|Office Supplies|  Appliances|        Hoover Stove|             Red| 7958.58|      14|         0|     3979.08|      778.32 |\n",
      "|22096|  IN-2014-11763|31/01/2014|01/02/2014|   First Class|  JS-15685|        Jim Sink|  Corporate|   Townsville|     Queensland|    Australia|      null|  APAC|     Oceania| TEC-CO-10000865|     Technology|     Copiers| Brother Fax Machine|      High-Speed|2565.594|       9|       0.1|      28.404|      766.93 |\n",
      "|49463|   TZ-2014-8190|05/12/2014|07/12/2014|  Second Class|   RH-9555| Ritsa Hightower|   Consumer|       Uvinza|         Kigoma|     Tanzania|      null|Africa|      Africa|OFF-KIT-10004058|Office Supplies|  Appliances|    KitchenAid Stove|           White| 3409.74|       6|         0|      818.28|      763.38 |\n",
      "+-----+---------------+----------+----------+--------------+----------+----------------+-----------+-------------+---------------+-------------+----------+------+------------+----------------+---------------+------------+--------------------+----------------+--------+--------+----------+------------+-------------+\n",
      "only showing top 20 rows\n",
      "\n"
     ]
    }
   ],
   "source": [
    "salesdf.show()"
   ]
  },
  {
   "cell_type": "code",
   "execution_count": 29,
   "id": "430b13cb",
   "metadata": {},
   "outputs": [
    {
     "data": {
      "text/plain": [
       "DataFrame[ID: int, OrderID: string, OrderDate: string, ShipDate: string, ShipMode: string, CustomerID: string, CustomerName: string, Segment: string, City: string, State: string, Country: string, PostalCode: int, Market: string, Region: string, ProductID: string, Category: string, Sub-Category: string, ProductName: string, Sales: string, Quantity: string, Discount: string, Profit: string, ShippingCost: string, OrderPriority: string]"
      ]
     },
     "execution_count": 29,
     "metadata": {},
     "output_type": "execute_result"
    }
   ],
   "source": [
    "salesdf.cache()"
   ]
  },
  {
   "cell_type": "code",
   "execution_count": 30,
   "id": "7691c96f",
   "metadata": {},
   "outputs": [
    {
     "name": "stderr",
     "output_type": "stream",
     "text": [
      "                                                                                \r"
     ]
    },
    {
     "data": {
      "text/plain": [
       "51290"
      ]
     },
     "execution_count": 30,
     "metadata": {},
     "output_type": "execute_result"
    }
   ],
   "source": [
    "salesdf.count()"
   ]
  },
  {
   "cell_type": "code",
   "execution_count": 31,
   "id": "2aee2163",
   "metadata": {},
   "outputs": [
    {
     "name": "stdout",
     "output_type": "stream",
     "text": [
      "+---+---+----+\n",
      "|_c0|_c1| _c2|\n",
      "+---+---+----+\n",
      "|111|zzz|8000|\n",
      "|111|aaa|8888|\n",
      "|121|bbb|8000|\n",
      "+---+---+----+\n",
      "\n"
     ]
    }
   ],
   "source": [
    "empdf.show()"
   ]
  },
  {
   "cell_type": "code",
   "execution_count": 32,
   "id": "711473ec",
   "metadata": {},
   "outputs": [
    {
     "name": "stdout",
     "output_type": "stream",
     "text": [
      "+-----+---------------+----------+----------+--------------+----------+----------------+-----------+-------------+---------------+-------------+----------+------+------------+----------------+---------------+------------+--------------------+----------------+--------+--------+----------+------------+-------------+\n",
      "|   ID|        OrderID| OrderDate|  ShipDate|      ShipMode|CustomerID|    CustomerName|    Segment|         City|          State|      Country|PostalCode|Market|      Region|       ProductID|       Category|Sub-Category|         ProductName|           Sales|Quantity|Discount|    Profit|ShippingCost|OrderPriority|\n",
      "+-----+---------------+----------+----------+--------------+----------+----------------+-----------+-------------+---------------+-------------+----------+------+------------+----------------+---------------+------------+--------------------+----------------+--------+--------+----------+------------+-------------+\n",
      "|32298| CA-2012-124891|31/07/2012|31/07/2012|      Same Day|  RH-19495|     Rick Hansen|   Consumer|New York City|       New York|United States|     10024|    US|        East| TEC-AC-10003033|     Technology| Accessories|Plantronics CS510...|         2309.65|       7|       0|  762.1845|     933.57 |     Critical|\n",
      "|26341|  IN-2013-77878|05/02/2013|07/02/2013|  Second Class|  JR-16210|   Justin Ritter|  Corporate|   Wollongong|New South Wales|    Australia|      null|  APAC|     Oceania| FUR-CH-10003950|      Furniture|      Chairs|Novimex Executive...|           Black|3709.395|       9|       0.1|    -288.765|      923.63 |\n",
      "|25330|  IN-2013-71249|17/10/2013|18/10/2013|   First Class|  CR-12730|    Craig Reiter|   Consumer|     Brisbane|     Queensland|    Australia|      null|  APAC|     Oceania| TEC-PH-10004664|     Technology|      Phones|   Nokia Smart Phone|  with Caller ID|5175.171|       9|       0.1|     919.971|      915.49 |\n",
      "|13524|ES-2013-1579342|28/01/2013|30/01/2013|   First Class|  KM-16375|Katherine Murray|Home Office|       Berlin|         Berlin|      Germany|      null|    EU|     Central| TEC-PH-10004583|     Technology|      Phones|Motorola Smart Phone|        Cordless| 2892.51|       5|       0.1|      -96.54|      910.16 |\n",
      "|47221|   SG-2013-4320|05/11/2013|06/11/2013|      Same Day|   RH-9495|     Rick Hansen|   Consumer|        Dakar|          Dakar|      Senegal|      null|Africa|      Africa|TEC-SHA-10000501|     Technology|     Copiers|  Sharp Wireless Fax|      High-Speed| 2832.96|       8|         0|      311.52|      903.04 |\n",
      "|22732|  IN-2013-42360|28/06/2013|01/07/2013|  Second Class|  JM-15655|     Jim Mitchum|  Corporate|       Sydney|New South Wales|    Australia|      null|  APAC|     Oceania| TEC-PH-10000030|     Technology|      Phones| Samsung Smart Phone|  with Caller ID|2862.675|       5|       0.1|     763.275|      897.35 |\n",
      "|30570|  IN-2011-81826|07/11/2011|09/11/2011|   First Class|  TS-21340|   Toby Swindell|   Consumer|      Porirua|     Wellington|  New Zealand|      null|  APAC|     Oceania| FUR-CH-10004050|      Furniture|      Chairs|Novimex Executive...|      Adjustable| 1822.08|       4|         0|      564.84|       894.77|\n",
      "|31192|  IN-2012-86369|14/04/2012|18/04/2012|Standard Class|  MB-18085|      Mick Brown|   Consumer|     Hamilton|        Waikato|  New Zealand|      null|  APAC|     Oceania| FUR-TA-10002958|      Furniture|      Tables|Chromcraft Confer...| Fully Assembled| 5244.84|       6|         0|      996.48|       878.38|\n",
      "|40155| CA-2014-135909|14/10/2014|21/10/2014|Standard Class|  JW-15220|       Jane Waco|  Corporate|   Sacramento|     California|United States|     95823|    US|        West| OFF-BI-10003527|Office Supplies|     Binders|Fellowes PB500 El...|         5083.96|       5|     0.2|  1906.485|     867.69 |          Low|\n",
      "|40936| CA-2012-116638|28/01/2012|31/01/2012|  Second Class|  JH-15985|     Joseph Holt|   Consumer|      Concord| North Carolina|United States|     28027|    US|       South| FUR-TA-10000198|      Furniture|      Tables|Chromcraft Bull-N...|        4297.644|      13|     0.4|-1862.3124|     865.74 |     Critical|\n",
      "|34577| CA-2011-102988|05/04/2011|09/04/2011|  Second Class|  GM-14695|    Greg Maxwell|  Corporate|   Alexandria|       Virginia|United States|     22304|    US|       South| OFF-SU-10002881|Office Supplies|    Supplies|Martin Yale Chadl...|         4164.05|       5|       0|    83.281|     846.54 |         High|\n",
      "|28879|  ID-2012-28402|19/04/2012|22/04/2012|   First Class|  AJ-10780|  Anthony Jacobs|  Corporate|        Kabul|          Kabul|  Afghanistan|      null|  APAC|Central Asia| FUR-TA-10001889|      Furniture|      Tables|Bevis Conference ...| Fully Assembled| 4626.15|       5|         0|      647.55|      835.57 |\n",
      "|45794|   SA-2011-1830|27/12/2011|29/12/2011|  Second Class|   MM-7260| Magdelene Morse|   Consumer|        Jizan|          Jizan| Saudi Arabia|      null|  EMEA|        EMEA|TEC-CIS-10001717|     Technology|      Phones|   Cisco Smart Phone|  with Caller ID| 2616.96|       4|         0|      1151.4|      832.41 |\n",
      "| 4132| MX-2012-130015|13/11/2012|13/11/2012|      Same Day|  VF-21715|  Vicky Freymann|Home Office|       Toledo|         Parana|       Brazil|      null| LATAM|       South| FUR-CH-10002033|      Furniture|      Chairs|Harbour Creations...|      Adjustable|  2221.8|       7|         0|      622.02|      810.25 |\n",
      "|27704|  IN-2013-73951|06/06/2013|08/06/2013|  Second Class|  PF-19120|    Peter Fuller|   Consumer|   Mudanjiang|   Heilongjiang|        China|      null|  APAC|  North Asia| OFF-AP-10003500|Office Supplies|  Appliances|KitchenAid Microwave|           White| 3701.52|      12|         0|     1036.08|      804.54 |\n",
      "|13779|ES-2014-5099955|31/07/2014|03/08/2014|  Second Class|  BP-11185|    Ben Peterman|  Corporate|        Paris|  Ile-de-France|       France|      null|    EU|     Central| OFF-AP-10000423|Office Supplies|  Appliances|Breville Refriger...|             Red|1869.588|       4|       0.1|     186.948|      801.66 |\n",
      "|36178| CA-2014-143567|03/11/2014|06/11/2014|  Second Class|  TB-21175|   Thomas Boland|  Corporate|    Henderson|       Kentucky|United States|     42420|    US|       South| TEC-AC-10004145|     Technology| Accessories|Logitech diNovo E...|         2249.91|       9|       0|  517.4793|     780.70 |     Critical|\n",
      "|12069|ES-2014-1651774|08/09/2014|14/09/2014|Standard Class|  PJ-18835|   Patrick Jones|  Corporate|        Prato|        Tuscany|        Italy|      null|    EU|       South| OFF-AP-10004512|Office Supplies|  Appliances|        Hoover Stove|             Red| 7958.58|      14|         0|     3979.08|      778.32 |\n",
      "|22096|  IN-2014-11763|31/01/2014|01/02/2014|   First Class|  JS-15685|        Jim Sink|  Corporate|   Townsville|     Queensland|    Australia|      null|  APAC|     Oceania| TEC-CO-10000865|     Technology|     Copiers| Brother Fax Machine|      High-Speed|2565.594|       9|       0.1|      28.404|      766.93 |\n",
      "|49463|   TZ-2014-8190|05/12/2014|07/12/2014|  Second Class|   RH-9555| Ritsa Hightower|   Consumer|       Uvinza|         Kigoma|     Tanzania|      null|Africa|      Africa|OFF-KIT-10004058|Office Supplies|  Appliances|    KitchenAid Stove|           White| 3409.74|       6|         0|      818.28|      763.38 |\n",
      "+-----+---------------+----------+----------+--------------+----------+----------------+-----------+-------------+---------------+-------------+----------+------+------------+----------------+---------------+------------+--------------------+----------------+--------+--------+----------+------------+-------------+\n",
      "only showing top 20 rows\n",
      "\n"
     ]
    }
   ],
   "source": [
    "salesdf.show()"
   ]
  },
  {
   "cell_type": "code",
   "execution_count": 33,
   "id": "4194b713",
   "metadata": {},
   "outputs": [
    {
     "data": {
      "text/plain": [
       "DataFrame[ID: int, OrderID: string, OrderDate: string, ShipDate: string, ShipMode: string, CustomerID: string, CustomerName: string, Segment: string, City: string, State: string, Country: string, PostalCode: int, Market: string, Region: string, ProductID: string, Category: string, Sub-Category: string, ProductName: string, Sales: string, Quantity: string, Discount: string, Profit: string, ShippingCost: string, OrderPriority: string]"
      ]
     },
     "execution_count": 33,
     "metadata": {},
     "output_type": "execute_result"
    }
   ],
   "source": [
    "salesdf.unpersist()"
   ]
  },
  {
   "cell_type": "code",
   "execution_count": 34,
   "id": "0ae02605",
   "metadata": {},
   "outputs": [
    {
     "data": {
      "text/plain": [
       "DataFrame[ID: int, OrderID: string, OrderDate: string, ShipDate: string, ShipMode: string, CustomerID: string, CustomerName: string, Segment: string, City: string, State: string, Country: string, PostalCode: int, Market: string, Region: string, ProductID: string, Category: string, Sub-Category: string, ProductName: string, Sales: string, Quantity: string, Discount: string, Profit: string, ShippingCost: string, OrderPriority: string]"
      ]
     },
     "execution_count": 34,
     "metadata": {},
     "output_type": "execute_result"
    }
   ],
   "source": [
    "salesdf.persist()"
   ]
  },
  {
   "cell_type": "code",
   "execution_count": 35,
   "id": "ced2e26b",
   "metadata": {},
   "outputs": [
    {
     "name": "stderr",
     "output_type": "stream",
     "text": [
      "                                                                                \r"
     ]
    },
    {
     "data": {
      "text/plain": [
       "51290"
      ]
     },
     "execution_count": 35,
     "metadata": {},
     "output_type": "execute_result"
    }
   ],
   "source": [
    "salesdf.count()"
   ]
  },
  {
   "cell_type": "code",
   "execution_count": 36,
   "id": "8e415f8a",
   "metadata": {},
   "outputs": [
    {
     "name": "stderr",
     "output_type": "stream",
     "text": [
      "23/09/25 04:17:32 WARN CacheManager: Asked to cache already cached data.\n"
     ]
    },
    {
     "data": {
      "text/plain": [
       "DataFrame[ID: int, OrderID: string, OrderDate: string, ShipDate: string, ShipMode: string, CustomerID: string, CustomerName: string, Segment: string, City: string, State: string, Country: string, PostalCode: int, Market: string, Region: string, ProductID: string, Category: string, Sub-Category: string, ProductName: string, Sales: string, Quantity: string, Discount: string, Profit: string, ShippingCost: string, OrderPriority: string]"
      ]
     },
     "execution_count": 36,
     "metadata": {},
     "output_type": "execute_result"
    }
   ],
   "source": [
    "from pyspark.storagelevel import *\n",
    "\n",
    "salesdf.persist(StorageLevel.MEMORY_AND_DISK_2)"
   ]
  },
  {
   "cell_type": "code",
   "execution_count": 37,
   "id": "a47e51e1",
   "metadata": {},
   "outputs": [
    {
     "name": "stdout",
     "output_type": "stream",
     "text": [
      "+-----+---------------+----------+----------+--------------+----------+----------------+-----------+-------------+---------------+-------------+----------+------+------------+----------------+---------------+------------+--------------------+----------------+--------+--------+----------+------------+-------------+\n",
      "|   ID|        OrderID| OrderDate|  ShipDate|      ShipMode|CustomerID|    CustomerName|    Segment|         City|          State|      Country|PostalCode|Market|      Region|       ProductID|       Category|Sub-Category|         ProductName|           Sales|Quantity|Discount|    Profit|ShippingCost|OrderPriority|\n",
      "+-----+---------------+----------+----------+--------------+----------+----------------+-----------+-------------+---------------+-------------+----------+------+------------+----------------+---------------+------------+--------------------+----------------+--------+--------+----------+------------+-------------+\n",
      "|32298| CA-2012-124891|31/07/2012|31/07/2012|      Same Day|  RH-19495|     Rick Hansen|   Consumer|New York City|       New York|United States|     10024|    US|        East| TEC-AC-10003033|     Technology| Accessories|Plantronics CS510...|         2309.65|       7|       0|  762.1845|     933.57 |     Critical|\n",
      "|26341|  IN-2013-77878|05/02/2013|07/02/2013|  Second Class|  JR-16210|   Justin Ritter|  Corporate|   Wollongong|New South Wales|    Australia|      null|  APAC|     Oceania| FUR-CH-10003950|      Furniture|      Chairs|Novimex Executive...|           Black|3709.395|       9|       0.1|    -288.765|      923.63 |\n",
      "|25330|  IN-2013-71249|17/10/2013|18/10/2013|   First Class|  CR-12730|    Craig Reiter|   Consumer|     Brisbane|     Queensland|    Australia|      null|  APAC|     Oceania| TEC-PH-10004664|     Technology|      Phones|   Nokia Smart Phone|  with Caller ID|5175.171|       9|       0.1|     919.971|      915.49 |\n",
      "|13524|ES-2013-1579342|28/01/2013|30/01/2013|   First Class|  KM-16375|Katherine Murray|Home Office|       Berlin|         Berlin|      Germany|      null|    EU|     Central| TEC-PH-10004583|     Technology|      Phones|Motorola Smart Phone|        Cordless| 2892.51|       5|       0.1|      -96.54|      910.16 |\n",
      "|47221|   SG-2013-4320|05/11/2013|06/11/2013|      Same Day|   RH-9495|     Rick Hansen|   Consumer|        Dakar|          Dakar|      Senegal|      null|Africa|      Africa|TEC-SHA-10000501|     Technology|     Copiers|  Sharp Wireless Fax|      High-Speed| 2832.96|       8|         0|      311.52|      903.04 |\n",
      "|22732|  IN-2013-42360|28/06/2013|01/07/2013|  Second Class|  JM-15655|     Jim Mitchum|  Corporate|       Sydney|New South Wales|    Australia|      null|  APAC|     Oceania| TEC-PH-10000030|     Technology|      Phones| Samsung Smart Phone|  with Caller ID|2862.675|       5|       0.1|     763.275|      897.35 |\n",
      "|30570|  IN-2011-81826|07/11/2011|09/11/2011|   First Class|  TS-21340|   Toby Swindell|   Consumer|      Porirua|     Wellington|  New Zealand|      null|  APAC|     Oceania| FUR-CH-10004050|      Furniture|      Chairs|Novimex Executive...|      Adjustable| 1822.08|       4|         0|      564.84|       894.77|\n",
      "|31192|  IN-2012-86369|14/04/2012|18/04/2012|Standard Class|  MB-18085|      Mick Brown|   Consumer|     Hamilton|        Waikato|  New Zealand|      null|  APAC|     Oceania| FUR-TA-10002958|      Furniture|      Tables|Chromcraft Confer...| Fully Assembled| 5244.84|       6|         0|      996.48|       878.38|\n",
      "|40155| CA-2014-135909|14/10/2014|21/10/2014|Standard Class|  JW-15220|       Jane Waco|  Corporate|   Sacramento|     California|United States|     95823|    US|        West| OFF-BI-10003527|Office Supplies|     Binders|Fellowes PB500 El...|         5083.96|       5|     0.2|  1906.485|     867.69 |          Low|\n",
      "|40936| CA-2012-116638|28/01/2012|31/01/2012|  Second Class|  JH-15985|     Joseph Holt|   Consumer|      Concord| North Carolina|United States|     28027|    US|       South| FUR-TA-10000198|      Furniture|      Tables|Chromcraft Bull-N...|        4297.644|      13|     0.4|-1862.3124|     865.74 |     Critical|\n",
      "|34577| CA-2011-102988|05/04/2011|09/04/2011|  Second Class|  GM-14695|    Greg Maxwell|  Corporate|   Alexandria|       Virginia|United States|     22304|    US|       South| OFF-SU-10002881|Office Supplies|    Supplies|Martin Yale Chadl...|         4164.05|       5|       0|    83.281|     846.54 |         High|\n",
      "|28879|  ID-2012-28402|19/04/2012|22/04/2012|   First Class|  AJ-10780|  Anthony Jacobs|  Corporate|        Kabul|          Kabul|  Afghanistan|      null|  APAC|Central Asia| FUR-TA-10001889|      Furniture|      Tables|Bevis Conference ...| Fully Assembled| 4626.15|       5|         0|      647.55|      835.57 |\n",
      "|45794|   SA-2011-1830|27/12/2011|29/12/2011|  Second Class|   MM-7260| Magdelene Morse|   Consumer|        Jizan|          Jizan| Saudi Arabia|      null|  EMEA|        EMEA|TEC-CIS-10001717|     Technology|      Phones|   Cisco Smart Phone|  with Caller ID| 2616.96|       4|         0|      1151.4|      832.41 |\n",
      "| 4132| MX-2012-130015|13/11/2012|13/11/2012|      Same Day|  VF-21715|  Vicky Freymann|Home Office|       Toledo|         Parana|       Brazil|      null| LATAM|       South| FUR-CH-10002033|      Furniture|      Chairs|Harbour Creations...|      Adjustable|  2221.8|       7|         0|      622.02|      810.25 |\n",
      "|27704|  IN-2013-73951|06/06/2013|08/06/2013|  Second Class|  PF-19120|    Peter Fuller|   Consumer|   Mudanjiang|   Heilongjiang|        China|      null|  APAC|  North Asia| OFF-AP-10003500|Office Supplies|  Appliances|KitchenAid Microwave|           White| 3701.52|      12|         0|     1036.08|      804.54 |\n",
      "|13779|ES-2014-5099955|31/07/2014|03/08/2014|  Second Class|  BP-11185|    Ben Peterman|  Corporate|        Paris|  Ile-de-France|       France|      null|    EU|     Central| OFF-AP-10000423|Office Supplies|  Appliances|Breville Refriger...|             Red|1869.588|       4|       0.1|     186.948|      801.66 |\n",
      "|36178| CA-2014-143567|03/11/2014|06/11/2014|  Second Class|  TB-21175|   Thomas Boland|  Corporate|    Henderson|       Kentucky|United States|     42420|    US|       South| TEC-AC-10004145|     Technology| Accessories|Logitech diNovo E...|         2249.91|       9|       0|  517.4793|     780.70 |     Critical|\n",
      "|12069|ES-2014-1651774|08/09/2014|14/09/2014|Standard Class|  PJ-18835|   Patrick Jones|  Corporate|        Prato|        Tuscany|        Italy|      null|    EU|       South| OFF-AP-10004512|Office Supplies|  Appliances|        Hoover Stove|             Red| 7958.58|      14|         0|     3979.08|      778.32 |\n",
      "|22096|  IN-2014-11763|31/01/2014|01/02/2014|   First Class|  JS-15685|        Jim Sink|  Corporate|   Townsville|     Queensland|    Australia|      null|  APAC|     Oceania| TEC-CO-10000865|     Technology|     Copiers| Brother Fax Machine|      High-Speed|2565.594|       9|       0.1|      28.404|      766.93 |\n",
      "|49463|   TZ-2014-8190|05/12/2014|07/12/2014|  Second Class|   RH-9555| Ritsa Hightower|   Consumer|       Uvinza|         Kigoma|     Tanzania|      null|Africa|      Africa|OFF-KIT-10004058|Office Supplies|  Appliances|    KitchenAid Stove|           White| 3409.74|       6|         0|      818.28|      763.38 |\n",
      "+-----+---------------+----------+----------+--------------+----------+----------------+-----------+-------------+---------------+-------------+----------+------+------------+----------------+---------------+------------+--------------------+----------------+--------+--------+----------+------------+-------------+\n",
      "only showing top 20 rows\n",
      "\n"
     ]
    }
   ],
   "source": [
    "salesdf.show()"
   ]
  },
  {
   "cell_type": "code",
   "execution_count": 38,
   "id": "bc76c498",
   "metadata": {},
   "outputs": [],
   "source": [
    "emp = [(1,\"Smith\",1,\"2018\",\"10\",\"M\",3000.00), \n",
    "    (2,\"Rose\",1,\"2010\",\"20\",\"M\",4000.00), \n",
    "    (3,\"Williams\",1,\"2010\",\"10\",\"M\",1000.00), \n",
    "    (4,\"Jones\",2,\"2005\",\"10\",\"F\",2000.00), \n",
    "    (5,\"Brown\",2,\"2010\",\"40\",\"\",300.00), \n",
    "      (6,\"Brown\",2,\"2010\",\"50\",\"\",2000.00) \n",
    "  ]"
   ]
  },
  {
   "cell_type": "code",
   "execution_count": 39,
   "id": "a5b14816",
   "metadata": {},
   "outputs": [],
   "source": [
    "EmpSchema = StructType([  \n",
    "    StructField('Emp_id', IntegerType(), True), \n",
    "    StructField('Empname', StringType(), True),\n",
    "    StructField('MGR', IntegerType(), True), \n",
    "   StructField('YOJ', StringType(), True), \n",
    "     StructField('dept_id', StringType(), True), \n",
    "    StructField('gender', StringType(), True), \n",
    "     StructField('salary', DoubleType(), True) \n",
    "])\n"
   ]
  },
  {
   "cell_type": "code",
   "execution_count": 40,
   "id": "0b4d5277",
   "metadata": {},
   "outputs": [
    {
     "name": "stdout",
     "output_type": "stream",
     "text": [
      "Inner join\n"
     ]
    },
    {
     "name": "stderr",
     "output_type": "stream",
     "text": [
      "[Stage 25:>                                                         (0 + 2) / 2]\r"
     ]
    },
    {
     "name": "stdout",
     "output_type": "stream",
     "text": [
      "+------+--------+---+----+-------+------+------+---------+-------+\n",
      "|Emp_id| Empname|MGR| YOJ|dept_id|gender|salary|dept_name|dept_id|\n",
      "+------+--------+---+----+-------+------+------+---------+-------+\n",
      "|     1|   Smith|  1|2018|     10|     M|3000.0|  Finance|     10|\n",
      "|     3|Williams|  1|2010|     10|     M|1000.0|  Finance|     10|\n",
      "|     4|   Jones|  2|2005|     10|     F|2000.0|  Finance|     10|\n",
      "|     2|    Rose|  1|2010|     20|     M|4000.0|Marketing|     20|\n",
      "|     5|   Brown|  2|2010|     40|      | 300.0|       IT|     40|\n",
      "+------+--------+---+----+-------+------+------+---------+-------+\n",
      "\n"
     ]
    },
    {
     "name": "stderr",
     "output_type": "stream",
     "text": [
      "\r",
      "                                                                                \r"
     ]
    }
   ],
   "source": [
    "emp = [(1,\"Smith\",1,\"2018\",\"10\",\"M\",3000.00), \n",
    "    (2,\"Rose\",1,\"2010\",\"20\",\"M\",4000.00), \n",
    "    (3,\"Williams\",1,\"2010\",\"10\",\"M\",1000.00), \n",
    "    (4,\"Jones\",2,\"2005\",\"10\",\"F\",2000.00), \n",
    "    (5,\"Brown\",2,\"2010\",\"40\",\"\",300.00), \n",
    "      (6,\"Brown\",2,\"2010\",\"50\",\"\",2000.00) \n",
    "  ]\n",
    "\n",
    "EmpSchema = StructType([  \n",
    "    StructField('Emp_id', IntegerType(), True), \n",
    "    StructField('Empname', StringType(), True),\n",
    "    StructField('MGR', IntegerType(), True), \n",
    "   StructField('YOJ', StringType(), True), \n",
    "     StructField('dept_id', StringType(), True), \n",
    "    StructField('gender', StringType(), True), \n",
    "     StructField('salary', DoubleType(), True) \n",
    "])\n",
    "\n",
    "empDF = spark.createDataFrame(data=emp, schema = EmpSchema)\n",
    "\n",
    "\n",
    "dept = [(\"Finance\",10), \n",
    "    (\"Marketing\",20), \n",
    "    (\"Sales\",30), \n",
    "    (\"IT\",40) \n",
    "  ]\n",
    "\n",
    "deptColumns = [\"dept_name\",\"dept_id\"]\n",
    "deptDF = spark.createDataFrame(data=dept, schema = deptColumns)\n",
    "\n",
    "\n",
    "print(\"Inner join\")\n",
    "empDF.join(deptDF,empDF.dept_id ==  deptDF.dept_id,\"inner\").show()"
   ]
  },
  {
   "cell_type": "code",
   "execution_count": 41,
   "id": "9322f5ba",
   "metadata": {},
   "outputs": [
    {
     "name": "stderr",
     "output_type": "stream",
     "text": [
      "\r",
      "[Stage 30:>                                                         (0 + 2) / 2]\r"
     ]
    },
    {
     "name": "stdout",
     "output_type": "stream",
     "text": [
      "+------+--------+---+----+-------+------+------+---------+-------+\n",
      "|Emp_id| Empname|MGR| YOJ|dept_id|gender|salary|dept_name|dept_id|\n",
      "+------+--------+---+----+-------+------+------+---------+-------+\n",
      "|     1|   Smith|  1|2018|     10|     M|3000.0|  Finance|     10|\n",
      "|     3|Williams|  1|2010|     10|     M|1000.0|  Finance|     10|\n",
      "|     4|   Jones|  2|2005|     10|     F|2000.0|  Finance|     10|\n",
      "|     2|    Rose|  1|2010|     20|     M|4000.0|Marketing|     20|\n",
      "|     5|   Brown|  2|2010|     40|      | 300.0|       IT|     40|\n",
      "+------+--------+---+----+-------+------+------+---------+-------+\n",
      "\n"
     ]
    },
    {
     "name": "stderr",
     "output_type": "stream",
     "text": [
      "\r",
      "                                                                                \r"
     ]
    }
   ],
   "source": [
    "empDF.join(deptDF,empDF.dept_id ==  deptDF.dept_id,\"inner\").show()"
   ]
  },
  {
   "cell_type": "code",
   "execution_count": 42,
   "id": "9a830fb7",
   "metadata": {},
   "outputs": [
    {
     "name": "stderr",
     "output_type": "stream",
     "text": [
      "\r",
      "[Stage 35:>                                                         (0 + 2) / 2]\r"
     ]
    },
    {
     "name": "stdout",
     "output_type": "stream",
     "text": [
      "+------+--------+----+----+-------+------+------+---------+-------+\n",
      "|Emp_id| Empname| MGR| YOJ|dept_id|gender|salary|dept_name|dept_id|\n",
      "+------+--------+----+----+-------+------+------+---------+-------+\n",
      "|     1|   Smith|   1|2018|     10|     M|3000.0|  Finance|     10|\n",
      "|     3|Williams|   1|2010|     10|     M|1000.0|  Finance|     10|\n",
      "|     4|   Jones|   2|2005|     10|     F|2000.0|  Finance|     10|\n",
      "|     2|    Rose|   1|2010|     20|     M|4000.0|Marketing|     20|\n",
      "|  null|    null|null|null|   null|  null|  null|    Sales|     30|\n",
      "|     5|   Brown|   2|2010|     40|      | 300.0|       IT|     40|\n",
      "|     6|   Brown|   2|2010|     50|      |2000.0|     null|   null|\n",
      "+------+--------+----+----+-------+------+------+---------+-------+\n",
      "\n"
     ]
    },
    {
     "name": "stderr",
     "output_type": "stream",
     "text": [
      "\r",
      "                                                                                \r"
     ]
    }
   ],
   "source": [
    "empDF.join(deptDF,empDF.dept_id ==  deptDF.dept_id,\"full\").show()"
   ]
  },
  {
   "cell_type": "code",
   "execution_count": 43,
   "id": "11a1098b",
   "metadata": {},
   "outputs": [
    {
     "name": "stdout",
     "output_type": "stream",
     "text": [
      "+------+--------+---+----+-------+------+------+---------+-------+\n",
      "|Emp_id| Empname|MGR| YOJ|dept_id|gender|salary|dept_name|dept_id|\n",
      "+------+--------+---+----+-------+------+------+---------+-------+\n",
      "|     1|   Smith|  1|2018|     10|     M|3000.0|  Finance|     10|\n",
      "|     3|Williams|  1|2010|     10|     M|1000.0|  Finance|     10|\n",
      "|     2|    Rose|  1|2010|     20|     M|4000.0|Marketing|     20|\n",
      "|     6|   Brown|  2|2010|     50|      |2000.0|     null|   null|\n",
      "|     4|   Jones|  2|2005|     10|     F|2000.0|  Finance|     10|\n",
      "|     5|   Brown|  2|2010|     40|      | 300.0|       IT|     40|\n",
      "+------+--------+---+----+-------+------+------+---------+-------+\n",
      "\n"
     ]
    }
   ],
   "source": [
    "empDF.join(deptDF,empDF.dept_id ==  deptDF.dept_id,\"left\").show()"
   ]
  },
  {
   "cell_type": "code",
   "execution_count": 44,
   "id": "1b58c2a5",
   "metadata": {},
   "outputs": [
    {
     "name": "stderr",
     "output_type": "stream",
     "text": [
      "\r",
      "[Stage 46:>                                                         (0 + 2) / 2]\r",
      "\r",
      "                                                                                \r"
     ]
    },
    {
     "name": "stdout",
     "output_type": "stream",
     "text": [
      "+------+--------+----+----+-------+------+------+---------+-------+\n",
      "|Emp_id| Empname| MGR| YOJ|dept_id|gender|salary|dept_name|dept_id|\n",
      "+------+--------+----+----+-------+------+------+---------+-------+\n",
      "|     4|   Jones|   2|2005|     10|     F|2000.0|  Finance|     10|\n",
      "|     3|Williams|   1|2010|     10|     M|1000.0|  Finance|     10|\n",
      "|     1|   Smith|   1|2018|     10|     M|3000.0|  Finance|     10|\n",
      "|     2|    Rose|   1|2010|     20|     M|4000.0|Marketing|     20|\n",
      "|  null|    null|null|null|   null|  null|  null|    Sales|     30|\n",
      "|     5|   Brown|   2|2010|     40|      | 300.0|       IT|     40|\n",
      "+------+--------+----+----+-------+------+------+---------+-------+\n",
      "\n"
     ]
    }
   ],
   "source": [
    "empDF.join(deptDF,empDF.dept_id ==  deptDF.dept_id,\"right\").show()"
   ]
  },
  {
   "cell_type": "code",
   "execution_count": 45,
   "id": "13ef0440",
   "metadata": {},
   "outputs": [
    {
     "name": "stdout",
     "output_type": "stream",
     "text": [
      "+------+-------+---+----+-------+------+------+\n",
      "|Emp_id|Empname|MGR| YOJ|dept_id|gender|salary|\n",
      "+------+-------+---+----+-------+------+------+\n",
      "|     6|  Brown|  2|2010|     50|      |2000.0|\n",
      "+------+-------+---+----+-------+------+------+\n",
      "\n"
     ]
    }
   ],
   "source": [
    "empDF.join(deptDF,empDF.dept_id ==  deptDF.dept_id,\"leftanti\").show()"
   ]
  },
  {
   "cell_type": "code",
   "execution_count": 20,
   "id": "cb6cf516",
   "metadata": {},
   "outputs": [
    {
     "ename": "NameError",
     "evalue": "name 'empDF' is not defined",
     "output_type": "error",
     "traceback": [
      "\u001b[0;31m---------------------------------------------------------------------------\u001b[0m",
      "\u001b[0;31mNameError\u001b[0m                                 Traceback (most recent call last)",
      "Cell \u001b[0;32mIn[20], line 1\u001b[0m\n\u001b[0;32m----> 1\u001b[0m empDF\u001b[38;5;241m.\u001b[39mjoin(deptDF,empDF\u001b[38;5;241m.\u001b[39mdept_id \u001b[38;5;241m==\u001b[39m  deptDF\u001b[38;5;241m.\u001b[39mdept_id,\u001b[38;5;124m\"\u001b[39m\u001b[38;5;124mleftsemi\u001b[39m\u001b[38;5;124m\"\u001b[39m)\u001b[38;5;241m.\u001b[39mshow()\n",
      "\u001b[0;31mNameError\u001b[0m: name 'empDF' is not defined"
     ]
    }
   ],
   "source": [
    "empDF.join(deptDF,empDF.dept_id ==  deptDF.dept_id,\"leftsemi\").show()"
   ]
  },
  {
   "cell_type": "code",
   "execution_count": 46,
   "id": "6e930c41",
   "metadata": {},
   "outputs": [
    {
     "name": "stdout",
     "output_type": "stream",
     "text": [
      "+---------+---------+-----------+\n",
      "|namespace|tableName|isTemporary|\n",
      "+---------+---------+-----------+\n",
      "+---------+---------+-----------+\n",
      "\n"
     ]
    }
   ],
   "source": [
    "spark.sql(\"show tables\").show()"
   ]
  },
  {
   "cell_type": "code",
   "execution_count": 47,
   "id": "5125697f",
   "metadata": {},
   "outputs": [
    {
     "name": "stdout",
     "output_type": "stream",
     "text": [
      "+-----+---------------+----------+----------+--------------+----------+----------------+-----------+-------------+---------------+-------------+----------+------+------------+----------------+---------------+------------+--------------------+----------------+--------+--------+----------+------------+-------------+\n",
      "|   ID|        OrderID| OrderDate|  ShipDate|      ShipMode|CustomerID|    CustomerName|    Segment|         City|          State|      Country|PostalCode|Market|      Region|       ProductID|       Category|Sub-Category|         ProductName|           Sales|Quantity|Discount|    Profit|ShippingCost|OrderPriority|\n",
      "+-----+---------------+----------+----------+--------------+----------+----------------+-----------+-------------+---------------+-------------+----------+------+------------+----------------+---------------+------------+--------------------+----------------+--------+--------+----------+------------+-------------+\n",
      "|32298| CA-2012-124891|31/07/2012|31/07/2012|      Same Day|  RH-19495|     Rick Hansen|   Consumer|New York City|       New York|United States|     10024|    US|        East| TEC-AC-10003033|     Technology| Accessories|Plantronics CS510...|         2309.65|       7|       0|  762.1845|     933.57 |     Critical|\n",
      "|26341|  IN-2013-77878|05/02/2013|07/02/2013|  Second Class|  JR-16210|   Justin Ritter|  Corporate|   Wollongong|New South Wales|    Australia|      null|  APAC|     Oceania| FUR-CH-10003950|      Furniture|      Chairs|Novimex Executive...|           Black|3709.395|       9|       0.1|    -288.765|      923.63 |\n",
      "|25330|  IN-2013-71249|17/10/2013|18/10/2013|   First Class|  CR-12730|    Craig Reiter|   Consumer|     Brisbane|     Queensland|    Australia|      null|  APAC|     Oceania| TEC-PH-10004664|     Technology|      Phones|   Nokia Smart Phone|  with Caller ID|5175.171|       9|       0.1|     919.971|      915.49 |\n",
      "|13524|ES-2013-1579342|28/01/2013|30/01/2013|   First Class|  KM-16375|Katherine Murray|Home Office|       Berlin|         Berlin|      Germany|      null|    EU|     Central| TEC-PH-10004583|     Technology|      Phones|Motorola Smart Phone|        Cordless| 2892.51|       5|       0.1|      -96.54|      910.16 |\n",
      "|47221|   SG-2013-4320|05/11/2013|06/11/2013|      Same Day|   RH-9495|     Rick Hansen|   Consumer|        Dakar|          Dakar|      Senegal|      null|Africa|      Africa|TEC-SHA-10000501|     Technology|     Copiers|  Sharp Wireless Fax|      High-Speed| 2832.96|       8|         0|      311.52|      903.04 |\n",
      "|22732|  IN-2013-42360|28/06/2013|01/07/2013|  Second Class|  JM-15655|     Jim Mitchum|  Corporate|       Sydney|New South Wales|    Australia|      null|  APAC|     Oceania| TEC-PH-10000030|     Technology|      Phones| Samsung Smart Phone|  with Caller ID|2862.675|       5|       0.1|     763.275|      897.35 |\n",
      "|30570|  IN-2011-81826|07/11/2011|09/11/2011|   First Class|  TS-21340|   Toby Swindell|   Consumer|      Porirua|     Wellington|  New Zealand|      null|  APAC|     Oceania| FUR-CH-10004050|      Furniture|      Chairs|Novimex Executive...|      Adjustable| 1822.08|       4|         0|      564.84|       894.77|\n",
      "|31192|  IN-2012-86369|14/04/2012|18/04/2012|Standard Class|  MB-18085|      Mick Brown|   Consumer|     Hamilton|        Waikato|  New Zealand|      null|  APAC|     Oceania| FUR-TA-10002958|      Furniture|      Tables|Chromcraft Confer...| Fully Assembled| 5244.84|       6|         0|      996.48|       878.38|\n",
      "|40155| CA-2014-135909|14/10/2014|21/10/2014|Standard Class|  JW-15220|       Jane Waco|  Corporate|   Sacramento|     California|United States|     95823|    US|        West| OFF-BI-10003527|Office Supplies|     Binders|Fellowes PB500 El...|         5083.96|       5|     0.2|  1906.485|     867.69 |          Low|\n",
      "|40936| CA-2012-116638|28/01/2012|31/01/2012|  Second Class|  JH-15985|     Joseph Holt|   Consumer|      Concord| North Carolina|United States|     28027|    US|       South| FUR-TA-10000198|      Furniture|      Tables|Chromcraft Bull-N...|        4297.644|      13|     0.4|-1862.3124|     865.74 |     Critical|\n",
      "|34577| CA-2011-102988|05/04/2011|09/04/2011|  Second Class|  GM-14695|    Greg Maxwell|  Corporate|   Alexandria|       Virginia|United States|     22304|    US|       South| OFF-SU-10002881|Office Supplies|    Supplies|Martin Yale Chadl...|         4164.05|       5|       0|    83.281|     846.54 |         High|\n",
      "|28879|  ID-2012-28402|19/04/2012|22/04/2012|   First Class|  AJ-10780|  Anthony Jacobs|  Corporate|        Kabul|          Kabul|  Afghanistan|      null|  APAC|Central Asia| FUR-TA-10001889|      Furniture|      Tables|Bevis Conference ...| Fully Assembled| 4626.15|       5|         0|      647.55|      835.57 |\n",
      "|45794|   SA-2011-1830|27/12/2011|29/12/2011|  Second Class|   MM-7260| Magdelene Morse|   Consumer|        Jizan|          Jizan| Saudi Arabia|      null|  EMEA|        EMEA|TEC-CIS-10001717|     Technology|      Phones|   Cisco Smart Phone|  with Caller ID| 2616.96|       4|         0|      1151.4|      832.41 |\n",
      "| 4132| MX-2012-130015|13/11/2012|13/11/2012|      Same Day|  VF-21715|  Vicky Freymann|Home Office|       Toledo|         Parana|       Brazil|      null| LATAM|       South| FUR-CH-10002033|      Furniture|      Chairs|Harbour Creations...|      Adjustable|  2221.8|       7|         0|      622.02|      810.25 |\n",
      "|27704|  IN-2013-73951|06/06/2013|08/06/2013|  Second Class|  PF-19120|    Peter Fuller|   Consumer|   Mudanjiang|   Heilongjiang|        China|      null|  APAC|  North Asia| OFF-AP-10003500|Office Supplies|  Appliances|KitchenAid Microwave|           White| 3701.52|      12|         0|     1036.08|      804.54 |\n",
      "|13779|ES-2014-5099955|31/07/2014|03/08/2014|  Second Class|  BP-11185|    Ben Peterman|  Corporate|        Paris|  Ile-de-France|       France|      null|    EU|     Central| OFF-AP-10000423|Office Supplies|  Appliances|Breville Refriger...|             Red|1869.588|       4|       0.1|     186.948|      801.66 |\n",
      "|36178| CA-2014-143567|03/11/2014|06/11/2014|  Second Class|  TB-21175|   Thomas Boland|  Corporate|    Henderson|       Kentucky|United States|     42420|    US|       South| TEC-AC-10004145|     Technology| Accessories|Logitech diNovo E...|         2249.91|       9|       0|  517.4793|     780.70 |     Critical|\n",
      "|12069|ES-2014-1651774|08/09/2014|14/09/2014|Standard Class|  PJ-18835|   Patrick Jones|  Corporate|        Prato|        Tuscany|        Italy|      null|    EU|       South| OFF-AP-10004512|Office Supplies|  Appliances|        Hoover Stove|             Red| 7958.58|      14|         0|     3979.08|      778.32 |\n",
      "|22096|  IN-2014-11763|31/01/2014|01/02/2014|   First Class|  JS-15685|        Jim Sink|  Corporate|   Townsville|     Queensland|    Australia|      null|  APAC|     Oceania| TEC-CO-10000865|     Technology|     Copiers| Brother Fax Machine|      High-Speed|2565.594|       9|       0.1|      28.404|      766.93 |\n",
      "|49463|   TZ-2014-8190|05/12/2014|07/12/2014|  Second Class|   RH-9555| Ritsa Hightower|   Consumer|       Uvinza|         Kigoma|     Tanzania|      null|Africa|      Africa|OFF-KIT-10004058|Office Supplies|  Appliances|    KitchenAid Stove|           White| 3409.74|       6|         0|      818.28|      763.38 |\n",
      "+-----+---------------+----------+----------+--------------+----------+----------------+-----------+-------------+---------------+-------------+----------+------+------------+----------------+---------------+------------+--------------------+----------------+--------+--------+----------+------------+-------------+\n",
      "only showing top 20 rows\n",
      "\n"
     ]
    }
   ],
   "source": [
    "salesdf.show()"
   ]
  },
  {
   "cell_type": "code",
   "execution_count": 67,
   "id": "3266b6e1",
   "metadata": {},
   "outputs": [
    {
     "data": {
      "text/plain": [
       "2"
      ]
     },
     "execution_count": 67,
     "metadata": {},
     "output_type": "execute_result"
    }
   ],
   "source": [
    "salesdf.rdd.getNumPartitions()"
   ]
  },
  {
   "cell_type": "code",
   "execution_count": 80,
   "id": "89f0520f",
   "metadata": {},
   "outputs": [],
   "source": [
    "sales_US = salesdf.select(\"country\",\"state\",\"profit\").filter(\"country = 'United States'\")"
   ]
  },
  {
   "cell_type": "code",
   "execution_count": 81,
   "id": "26d8953f",
   "metadata": {},
   "outputs": [
    {
     "name": "stdout",
     "output_type": "stream",
     "text": [
      "+-------------+--------------+--------+\n",
      "|      Country|         state|totSales|\n",
      "+-------------+--------------+--------+\n",
      "|United States|      Virginia|   17154|\n",
      "|United States|South Carolina|    1774|\n",
      "|United States| West Virginia|     186|\n",
      "|United States|         Maine|     417|\n",
      "|United States|       Montana|    1852|\n",
      "|United States|       Alabama|    4645|\n",
      "|United States|       Wyoming|     100|\n",
      "|United States|         Idaho|     695|\n",
      "|United States|    New Jersey|    6916|\n",
      "|United States|      Arkansas|    3437|\n",
      "|United States|      Michigan|   21869|\n",
      "|United States|      Illinois|   -9298|\n",
      "|United States|          Ohio|  -14490|\n",
      "|United States|      New York|   65943|\n",
      "|United States|      Missouri|    6208|\n",
      "|United States|   Mississippi|    2445|\n",
      "|United States|      Nebraska|    1421|\n",
      "|United States|     Minnesota|    9820|\n",
      "|United States|    Washington|   29900|\n",
      "|United States|        Kansas|     794|\n",
      "+-------------+--------------+--------+\n",
      "only showing top 20 rows\n",
      "\n"
     ]
    }
   ],
   "source": [
    "from pyspark.sql.functions import *\n",
    "sales_US =salesdf.groupBy(\"Country\",\"state\").agg(sum(col(\"Profit\").cast('int')).alias(\"totSales\")).filter(\"country='United States'\").show()"
   ]
  },
  {
   "cell_type": "code",
   "execution_count": 82,
   "id": "61ebc4b2",
   "metadata": {},
   "outputs": [
    {
     "name": "stdout",
     "output_type": "stream",
     "text": [
      "+-------------+--------------+--------+-------------------+\n",
      "|      Country|         state|totSales|           AvgSales|\n",
      "+-------------+--------------+--------+-------------------+\n",
      "|United States|      Virginia|   17154|  76.58035714285714|\n",
      "|United States|South Carolina|    1774|  42.23809523809524|\n",
      "|United States| West Virginia|     186|               46.5|\n",
      "|United States|         Maine|     417|             52.125|\n",
      "|United States|       Montana|    1852| 123.46666666666667|\n",
      "|United States|       Alabama|    4645|  76.14754098360656|\n",
      "|United States|       Wyoming|     100|              100.0|\n",
      "|United States|         Idaho|     695| 33.095238095238095|\n",
      "|United States|    New Jersey|    6916|   53.6124031007752|\n",
      "|United States|      Arkansas|    3437|  57.28333333333333|\n",
      "|United States|      Michigan|   21869|   86.0984251968504|\n",
      "|United States|      Illinois|   -9298|-18.898373983739837|\n",
      "|United States|          Ohio|  -14490|-30.895522388059703|\n",
      "|United States|      New York|   65943|  58.77272727272727|\n",
      "|United States|      Missouri|    6208|  94.06060606060606|\n",
      "|United States|   Mississippi|    2445| 46.132075471698116|\n",
      "|United States|      Nebraska|    1421|  37.39473684210526|\n",
      "|United States|     Minnesota|    9820| 110.33707865168539|\n",
      "|United States|    Washington|   29900|  59.20792079207921|\n",
      "|United States|        Kansas|     794| 33.083333333333336|\n",
      "+-------------+--------------+--------+-------------------+\n",
      "only showing top 20 rows\n",
      "\n"
     ]
    }
   ],
   "source": [
    "sales_US =salesdf.groupBy(\"Country\",\"state\").agg(sum(col(\"Profit\").cast('int')).alias(\"totSales\"),avg(col(\"Profit\").cast('int')).alias(\"AvgSales\")).filter(\"country='United States'\").show()"
   ]
  },
  {
   "cell_type": "code",
   "execution_count": 83,
   "id": "ff431687",
   "metadata": {},
   "outputs": [],
   "source": [
    "sales_withcolumn = salesdf.withColumn(\"SalesLevel\", when(col(\"profit\")>=10000,\"High\").when(col(\"profit\")<10000,\"Average\").otherwise(\"NA\"))  \n"
   ]
  },
  {
   "cell_type": "code",
   "execution_count": 84,
   "id": "8e7ef97a",
   "metadata": {},
   "outputs": [
    {
     "data": {
      "text/plain": [
       "DataFrame[ID: int, OrderID: string, OrderDate: string, ShipDate: string, ShipMode: string, CustomerID: string, CustomerName: string, Segment: string, City: string, State: string, Country: string, PostalCode: int, Market: string, Region: string, ProductID: string, Category: string, Sub-Category: string, ProductName: string, Sales: string, Quantity: string, Discount: string, Profit: string, ShippingCost: string, OrderPriority: string, SalesLevel: string]"
      ]
     },
     "execution_count": 84,
     "metadata": {},
     "output_type": "execute_result"
    }
   ],
   "source": [
    "sales_withcolumn"
   ]
  },
  {
   "cell_type": "code",
   "execution_count": 85,
   "id": "e083ba1e",
   "metadata": {},
   "outputs": [
    {
     "name": "stdout",
     "output_type": "stream",
     "text": [
      "+-----+---------------+----------+----------+--------------+----------+----------------+-----------+-------------+---------------+-------------+----------+------+------------+----------------+---------------+------------+--------------------+----------------+--------+--------+----------+------------+-------------+----------+\n",
      "|   ID|        OrderID| OrderDate|  ShipDate|      ShipMode|CustomerID|    CustomerName|    Segment|         City|          State|      Country|PostalCode|Market|      Region|       ProductID|       Category|Sub-Category|         ProductName|           Sales|Quantity|Discount|    Profit|ShippingCost|OrderPriority|SalesLevel|\n",
      "+-----+---------------+----------+----------+--------------+----------+----------------+-----------+-------------+---------------+-------------+----------+------+------------+----------------+---------------+------------+--------------------+----------------+--------+--------+----------+------------+-------------+----------+\n",
      "|32298| CA-2012-124891|31/07/2012|31/07/2012|      Same Day|  RH-19495|     Rick Hansen|   Consumer|New York City|       New York|United States|     10024|    US|        East| TEC-AC-10003033|     Technology| Accessories|Plantronics CS510...|         2309.65|       7|       0|  762.1845|     933.57 |     Critical|   Average|\n",
      "|26341|  IN-2013-77878|05/02/2013|07/02/2013|  Second Class|  JR-16210|   Justin Ritter|  Corporate|   Wollongong|New South Wales|    Australia|      null|  APAC|     Oceania| FUR-CH-10003950|      Furniture|      Chairs|Novimex Executive...|           Black|3709.395|       9|       0.1|    -288.765|      923.63 |   Average|\n",
      "|25330|  IN-2013-71249|17/10/2013|18/10/2013|   First Class|  CR-12730|    Craig Reiter|   Consumer|     Brisbane|     Queensland|    Australia|      null|  APAC|     Oceania| TEC-PH-10004664|     Technology|      Phones|   Nokia Smart Phone|  with Caller ID|5175.171|       9|       0.1|     919.971|      915.49 |   Average|\n",
      "|13524|ES-2013-1579342|28/01/2013|30/01/2013|   First Class|  KM-16375|Katherine Murray|Home Office|       Berlin|         Berlin|      Germany|      null|    EU|     Central| TEC-PH-10004583|     Technology|      Phones|Motorola Smart Phone|        Cordless| 2892.51|       5|       0.1|      -96.54|      910.16 |   Average|\n",
      "|47221|   SG-2013-4320|05/11/2013|06/11/2013|      Same Day|   RH-9495|     Rick Hansen|   Consumer|        Dakar|          Dakar|      Senegal|      null|Africa|      Africa|TEC-SHA-10000501|     Technology|     Copiers|  Sharp Wireless Fax|      High-Speed| 2832.96|       8|         0|      311.52|      903.04 |   Average|\n",
      "|22732|  IN-2013-42360|28/06/2013|01/07/2013|  Second Class|  JM-15655|     Jim Mitchum|  Corporate|       Sydney|New South Wales|    Australia|      null|  APAC|     Oceania| TEC-PH-10000030|     Technology|      Phones| Samsung Smart Phone|  with Caller ID|2862.675|       5|       0.1|     763.275|      897.35 |   Average|\n",
      "|30570|  IN-2011-81826|07/11/2011|09/11/2011|   First Class|  TS-21340|   Toby Swindell|   Consumer|      Porirua|     Wellington|  New Zealand|      null|  APAC|     Oceania| FUR-CH-10004050|      Furniture|      Chairs|Novimex Executive...|      Adjustable| 1822.08|       4|         0|      564.84|       894.77|   Average|\n",
      "|31192|  IN-2012-86369|14/04/2012|18/04/2012|Standard Class|  MB-18085|      Mick Brown|   Consumer|     Hamilton|        Waikato|  New Zealand|      null|  APAC|     Oceania| FUR-TA-10002958|      Furniture|      Tables|Chromcraft Confer...| Fully Assembled| 5244.84|       6|         0|      996.48|       878.38|   Average|\n",
      "|40155| CA-2014-135909|14/10/2014|21/10/2014|Standard Class|  JW-15220|       Jane Waco|  Corporate|   Sacramento|     California|United States|     95823|    US|        West| OFF-BI-10003527|Office Supplies|     Binders|Fellowes PB500 El...|         5083.96|       5|     0.2|  1906.485|     867.69 |          Low|   Average|\n",
      "|40936| CA-2012-116638|28/01/2012|31/01/2012|  Second Class|  JH-15985|     Joseph Holt|   Consumer|      Concord| North Carolina|United States|     28027|    US|       South| FUR-TA-10000198|      Furniture|      Tables|Chromcraft Bull-N...|        4297.644|      13|     0.4|-1862.3124|     865.74 |     Critical|   Average|\n",
      "|34577| CA-2011-102988|05/04/2011|09/04/2011|  Second Class|  GM-14695|    Greg Maxwell|  Corporate|   Alexandria|       Virginia|United States|     22304|    US|       South| OFF-SU-10002881|Office Supplies|    Supplies|Martin Yale Chadl...|         4164.05|       5|       0|    83.281|     846.54 |         High|   Average|\n",
      "|28879|  ID-2012-28402|19/04/2012|22/04/2012|   First Class|  AJ-10780|  Anthony Jacobs|  Corporate|        Kabul|          Kabul|  Afghanistan|      null|  APAC|Central Asia| FUR-TA-10001889|      Furniture|      Tables|Bevis Conference ...| Fully Assembled| 4626.15|       5|         0|      647.55|      835.57 |   Average|\n",
      "|45794|   SA-2011-1830|27/12/2011|29/12/2011|  Second Class|   MM-7260| Magdelene Morse|   Consumer|        Jizan|          Jizan| Saudi Arabia|      null|  EMEA|        EMEA|TEC-CIS-10001717|     Technology|      Phones|   Cisco Smart Phone|  with Caller ID| 2616.96|       4|         0|      1151.4|      832.41 |   Average|\n",
      "| 4132| MX-2012-130015|13/11/2012|13/11/2012|      Same Day|  VF-21715|  Vicky Freymann|Home Office|       Toledo|         Parana|       Brazil|      null| LATAM|       South| FUR-CH-10002033|      Furniture|      Chairs|Harbour Creations...|      Adjustable|  2221.8|       7|         0|      622.02|      810.25 |   Average|\n",
      "|27704|  IN-2013-73951|06/06/2013|08/06/2013|  Second Class|  PF-19120|    Peter Fuller|   Consumer|   Mudanjiang|   Heilongjiang|        China|      null|  APAC|  North Asia| OFF-AP-10003500|Office Supplies|  Appliances|KitchenAid Microwave|           White| 3701.52|      12|         0|     1036.08|      804.54 |   Average|\n",
      "|13779|ES-2014-5099955|31/07/2014|03/08/2014|  Second Class|  BP-11185|    Ben Peterman|  Corporate|        Paris|  Ile-de-France|       France|      null|    EU|     Central| OFF-AP-10000423|Office Supplies|  Appliances|Breville Refriger...|             Red|1869.588|       4|       0.1|     186.948|      801.66 |   Average|\n",
      "|36178| CA-2014-143567|03/11/2014|06/11/2014|  Second Class|  TB-21175|   Thomas Boland|  Corporate|    Henderson|       Kentucky|United States|     42420|    US|       South| TEC-AC-10004145|     Technology| Accessories|Logitech diNovo E...|         2249.91|       9|       0|  517.4793|     780.70 |     Critical|   Average|\n",
      "|12069|ES-2014-1651774|08/09/2014|14/09/2014|Standard Class|  PJ-18835|   Patrick Jones|  Corporate|        Prato|        Tuscany|        Italy|      null|    EU|       South| OFF-AP-10004512|Office Supplies|  Appliances|        Hoover Stove|             Red| 7958.58|      14|         0|     3979.08|      778.32 |   Average|\n",
      "|22096|  IN-2014-11763|31/01/2014|01/02/2014|   First Class|  JS-15685|        Jim Sink|  Corporate|   Townsville|     Queensland|    Australia|      null|  APAC|     Oceania| TEC-CO-10000865|     Technology|     Copiers| Brother Fax Machine|      High-Speed|2565.594|       9|       0.1|      28.404|      766.93 |   Average|\n",
      "|49463|   TZ-2014-8190|05/12/2014|07/12/2014|  Second Class|   RH-9555| Ritsa Hightower|   Consumer|       Uvinza|         Kigoma|     Tanzania|      null|Africa|      Africa|OFF-KIT-10004058|Office Supplies|  Appliances|    KitchenAid Stove|           White| 3409.74|       6|         0|      818.28|      763.38 |   Average|\n",
      "+-----+---------------+----------+----------+--------------+----------+----------------+-----------+-------------+---------------+-------------+----------+------+------------+----------------+---------------+------------+--------------------+----------------+--------+--------+----------+------------+-------------+----------+\n",
      "only showing top 20 rows\n",
      "\n"
     ]
    }
   ],
   "source": [
    "sales_withcolumn.show()"
   ]
  },
  {
   "cell_type": "code",
   "execution_count": 86,
   "id": "b150271c",
   "metadata": {},
   "outputs": [
    {
     "name": "stdout",
     "output_type": "stream",
     "text": [
      "+-------------+---------------+----------+----------+\n",
      "|      country|          state|    profit|salesLevel|\n",
      "+-------------+---------------+----------+----------+\n",
      "|United States|       New York|  762.1845|   Average|\n",
      "|    Australia|New South Wales|       0.1|   Average|\n",
      "|    Australia|     Queensland|       0.1|   Average|\n",
      "|      Germany|         Berlin|       0.1|   Average|\n",
      "|      Senegal|          Dakar|         0|   Average|\n",
      "|    Australia|New South Wales|       0.1|   Average|\n",
      "|  New Zealand|     Wellington|         0|   Average|\n",
      "|  New Zealand|        Waikato|         0|   Average|\n",
      "|United States|     California|  1906.485|   Average|\n",
      "|United States| North Carolina|-1862.3124|   Average|\n",
      "|United States|       Virginia|    83.281|   Average|\n",
      "|  Afghanistan|          Kabul|         0|   Average|\n",
      "| Saudi Arabia|          Jizan|         0|   Average|\n",
      "|       Brazil|         Parana|         0|   Average|\n",
      "|        China|   Heilongjiang|         0|   Average|\n",
      "|       France|  Ile-de-France|       0.1|   Average|\n",
      "|United States|       Kentucky|  517.4793|   Average|\n",
      "|        Italy|        Tuscany|         0|   Average|\n",
      "|    Australia|     Queensland|       0.1|   Average|\n",
      "|     Tanzania|         Kigoma|         0|   Average|\n",
      "+-------------+---------------+----------+----------+\n",
      "only showing top 20 rows\n",
      "\n"
     ]
    }
   ],
   "source": [
    "sales_withcolumn.select(\"country\",\"state\",\"profit\",\"salesLevel\").show()\n"
   ]
  },
  {
   "cell_type": "code",
   "execution_count": 89,
   "id": "ce4590d9",
   "metadata": {},
   "outputs": [
    {
     "ename": "AttributeError",
     "evalue": "'NoneType' object has no attribute 'withColumn'",
     "output_type": "error",
     "traceback": [
      "\u001b[0;31m---------------------------------------------------------------------------\u001b[0m",
      "\u001b[0;31mAttributeError\u001b[0m                            Traceback (most recent call last)",
      "Cell \u001b[0;32mIn[89], line 2\u001b[0m\n\u001b[1;32m      1\u001b[0m \u001b[38;5;28;01mfrom\u001b[39;00m \u001b[38;5;21;01mpyspark\u001b[39;00m\u001b[38;5;21;01m.\u001b[39;00m\u001b[38;5;21;01msql\u001b[39;00m\u001b[38;5;21;01m.\u001b[39;00m\u001b[38;5;21;01mfunctions\u001b[39;00m \u001b[38;5;28;01mimport\u001b[39;00m lit\n\u001b[0;32m----> 2\u001b[0m sales_US \u001b[38;5;241m=\u001b[39m sales_US\u001b[38;5;241m.\u001b[39mwithColumn(\u001b[38;5;124m\"\u001b[39m\u001b[38;5;124mCountryCode\u001b[39m\u001b[38;5;124m\"\u001b[39m,lit(\u001b[38;5;124m\"\u001b[39m\u001b[38;5;124mUS\u001b[39m\u001b[38;5;124m\"\u001b[39m))\n",
      "\u001b[0;31mAttributeError\u001b[0m: 'NoneType' object has no attribute 'withColumn'"
     ]
    }
   ],
   "source": [
    "from pyspark.sql.functions import lit\n",
    "sales_US = sales_US.withColumn(\"CountryCode\",lit(\"US\"))\n",
    "\n"
   ]
  },
  {
   "cell_type": "code",
   "execution_count": 90,
   "id": "43a7ff49",
   "metadata": {},
   "outputs": [
    {
     "ename": "AttributeError",
     "evalue": "'NoneType' object has no attribute 'drop'",
     "output_type": "error",
     "traceback": [
      "\u001b[0;31m---------------------------------------------------------------------------\u001b[0m",
      "\u001b[0;31mAttributeError\u001b[0m                            Traceback (most recent call last)",
      "Cell \u001b[0;32mIn[90], line 1\u001b[0m\n\u001b[0;32m----> 1\u001b[0m sales_US\u001b[38;5;241m.\u001b[39mdrop(\u001b[38;5;124m\"\u001b[39m\u001b[38;5;124mAvgSales\u001b[39m\u001b[38;5;124m\"\u001b[39m)\n",
      "\u001b[0;31mAttributeError\u001b[0m: 'NoneType' object has no attribute 'drop'"
     ]
    }
   ],
   "source": [
    "sales_US.drop(\"AvgSales\")"
   ]
  },
  {
   "cell_type": "code",
   "execution_count": 91,
   "id": "13f2b38a",
   "metadata": {},
   "outputs": [],
   "source": [
    "employeedf=spark.read.option(\"header\",\"true\").csv(\"/home/labuser/datasets/employee.csv\",inferSchema=True)"
   ]
  },
  {
   "cell_type": "code",
   "execution_count": 93,
   "id": "42930f81",
   "metadata": {},
   "outputs": [
    {
     "name": "stdout",
     "output_type": "stream",
     "text": [
      "+-----+-----+----+\n",
      "|empno|ename| sal|\n",
      "+-----+-----+----+\n",
      "|  111|  zzz|8000|\n",
      "|  111|  aaa|8888|\n",
      "|  121|  bbb|8000|\n",
      "| NULL|  ccc|9000|\n",
      "|false|  ddd|6000|\n",
      "|  555|  eee|7000|\n",
      "|  765| null|null|\n",
      "|  666|  fff|8890|\n",
      "|  aaa| null|null|\n",
      "| True| null|null|\n",
      "| true| null|null|\n",
      "|    a|    b|   c|\n",
      "|    x| NULL|NULL|\n",
      "| 1000| null|null|\n",
      "|  222| NULL|NULL|\n",
      "+-----+-----+----+\n",
      "\n"
     ]
    }
   ],
   "source": [
    "employeedf.show()"
   ]
  },
  {
   "cell_type": "code",
   "execution_count": 96,
   "id": "82786daf",
   "metadata": {},
   "outputs": [
    {
     "name": "stdout",
     "output_type": "stream",
     "text": [
      "+-----+-----+----+\n",
      "|empno|ename| sal|\n",
      "+-----+-----+----+\n",
      "|  111|  zzz|8000|\n",
      "|  111|  aaa|8888|\n",
      "|  121|  bbb|8000|\n",
      "| NULL|  ccc|9000|\n",
      "|false|  ddd|6000|\n",
      "|  555|  eee|7000|\n",
      "|  666|  fff|8890|\n",
      "|    a|    b|   c|\n",
      "|    x| NULL|NULL|\n",
      "| 1000| null|null|\n",
      "|  222| NULL|NULL|\n",
      "+-----+-----+----+\n",
      "\n"
     ]
    }
   ],
   "source": [
    "employeedf.dropna().show()"
   ]
  },
  {
   "cell_type": "code",
   "execution_count": 97,
   "id": "fe5a0748",
   "metadata": {},
   "outputs": [
    {
     "name": "stdout",
     "output_type": "stream",
     "text": [
      "+-----+-----+----+\n",
      "|empno|ename| sal|\n",
      "+-----+-----+----+\n",
      "|  111|  zzz|8000|\n",
      "|  111|  aaa|8888|\n",
      "|  121|  bbb|8000|\n",
      "| NULL|  ccc|9000|\n",
      "|false|  ddd|6000|\n",
      "|  555|  eee|7000|\n",
      "|  765| null|null|\n",
      "|  666|  fff|8890|\n",
      "|  aaa| null|null|\n",
      "| True| null|null|\n",
      "| true| null|null|\n",
      "|    a|    b|   c|\n",
      "|    x| NULL|NULL|\n",
      "| 1000| null|null|\n",
      "|  222| NULL|NULL|\n",
      "+-----+-----+----+\n",
      "\n"
     ]
    }
   ],
   "source": [
    "employeedf.dropna(\"any\",1).show()"
   ]
  },
  {
   "cell_type": "code",
   "execution_count": 100,
   "id": "7d0d028a",
   "metadata": {},
   "outputs": [
    {
     "name": "stdout",
     "output_type": "stream",
     "text": [
      "+-----+-------+-------+\n",
      "|empno|  ename|    sal|\n",
      "+-----+-------+-------+\n",
      "|  111|    zzz|   8000|\n",
      "|  111|    aaa|   8888|\n",
      "|  121|    bbb|   8000|\n",
      "| NULL|    ccc|   9000|\n",
      "|false|    ddd|   6000|\n",
      "|  555|    eee|   7000|\n",
      "|  765|unknown|unknown|\n",
      "|  666|    fff|   8890|\n",
      "|  aaa|unknown|unknown|\n",
      "| True|unknown|unknown|\n",
      "| true|unknown|unknown|\n",
      "|    a|      b|      c|\n",
      "|    x|   NULL|   NULL|\n",
      "| 1000|   null|   null|\n",
      "|  222|   NULL|   NULL|\n",
      "+-----+-------+-------+\n",
      "\n"
     ]
    }
   ],
   "source": [
    "employeedf.na.fill(\"unknown\").na.fill(0).show()\n"
   ]
  },
  {
   "cell_type": "code",
   "execution_count": 105,
   "id": "ecea6623",
   "metadata": {},
   "outputs": [
    {
     "name": "stdout",
     "output_type": "stream",
     "text": [
      "+-----+-------+----+\n",
      "|empno|  ename| sal|\n",
      "+-----+-------+----+\n",
      "|  111|    zzz|8000|\n",
      "|  111|    aaa|8888|\n",
      "|  121|    bbb|8000|\n",
      "| NULL|    ccc|9000|\n",
      "|false|    ddd|6000|\n",
      "|  555|    eee|7000|\n",
      "|  765|unknown|1000|\n",
      "|  666|    fff|8890|\n",
      "|  aaa|unknown|1000|\n",
      "| True|unknown|1000|\n",
      "| true|unknown|1000|\n",
      "|    a|      b|   c|\n",
      "|    x|   NULL|NULL|\n",
      "| 1000|   null|null|\n",
      "|  222|   NULL|NULL|\n",
      "+-----+-------+----+\n",
      "\n"
     ]
    }
   ],
   "source": [
    "employeedf.na.fill({'sal':1000,'ename':'unknown'}).show()"
   ]
  },
  {
   "cell_type": "code",
   "execution_count": 113,
   "id": "c3e21ce6",
   "metadata": {},
   "outputs": [
    {
     "data": {
      "text/plain": [
       "DataFrame[empno: string, ename: string, sal: string]"
      ]
     },
     "execution_count": 113,
     "metadata": {},
     "output_type": "execute_result"
    }
   ],
   "source": [
    "employeedf.na.replace(8000,8999)"
   ]
  },
  {
   "cell_type": "markdown",
   "id": "28ff2b60",
   "metadata": {},
   "source": [
    "emp"
   ]
  },
  {
   "cell_type": "code",
   "execution_count": null,
   "id": "f4b1dd12",
   "metadata": {},
   "outputs": [],
   "source": []
  },
  {
   "cell_type": "code",
   "execution_count": null,
   "id": "ab571d3c",
   "metadata": {},
   "outputs": [],
   "source": []
  },
  {
   "cell_type": "code",
   "execution_count": 111,
   "id": "99e00c72",
   "metadata": {},
   "outputs": [
    {
     "name": "stdout",
     "output_type": "stream",
     "text": [
      "+-----+-----+----+\n",
      "|empno|ename| sal|\n",
      "+-----+-----+----+\n",
      "|  111|  zzz|8000|\n",
      "|  111|  aaa|8888|\n",
      "|  121|  bbb|8000|\n",
      "| NULL|  ccc|9000|\n",
      "|false|  ddd|6000|\n",
      "|  555|  eee|7000|\n",
      "|  765| null|null|\n",
      "|  666|  fff|8890|\n",
      "|  aaa| null|null|\n",
      "| True| null|null|\n",
      "| true| null|null|\n",
      "|    a|    b|   c|\n",
      "|    x| NULL|NULL|\n",
      "| 1000| null|null|\n",
      "|  222| NULL|NULL|\n",
      "+-----+-----+----+\n",
      "\n"
     ]
    }
   ],
   "source": [
    "emp.show()"
   ]
  },
  {
   "cell_type": "code",
   "execution_count": null,
   "id": "f6e549e3",
   "metadata": {},
   "outputs": [],
   "source": []
  }
 ],
 "metadata": {
  "kernelspec": {
   "display_name": "Python 3 (ipykernel)",
   "language": "python",
   "name": "python3"
  },
  "language_info": {
   "codemirror_mode": {
    "name": "ipython",
    "version": 3
   },
   "file_extension": ".py",
   "mimetype": "text/x-python",
   "name": "python",
   "nbconvert_exporter": "python",
   "pygments_lexer": "ipython3",
   "version": "3.11.4"
  }
 },
 "nbformat": 4,
 "nbformat_minor": 5
}
